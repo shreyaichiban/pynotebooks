{
 "cells": [
  {
   "cell_type": "markdown",
   "metadata": {},
   "source": [
    "# Week11 - 10 August 2020.\n",
    "## Let's Play Cards."
   ]
  },
  {
   "cell_type": "markdown",
   "metadata": {},
   "source": [
    "Q1. Create a List or Tuple, containing all the cards of 54-cards \"playing-card\" deck. "
   ]
  },
  {
   "cell_type": "code",
   "execution_count": null,
   "metadata": {},
   "outputs": [],
   "source": [
    "cards_list = [\"A of spades\",\"2 of spades\",\"3 of spades\",\"4 of spades\",\"5 of spades\",\"6 of spades\",\n",
    "              \"7 of spades\",\"8 of spades\",\"9 of spades\",\"10 of spades\",\"J of spades\",\"Q of spades\",\n",
    "              \"K of spades\",\"A of hearts\",\"2 of hearts\",\"3 of hearts\",\"4 of hearts\",\"5 of hearts\",\n",
    "              \"6 of hearts\",\"7 of hearts\",\"8 of hearts\",\"9 of hearts\",\"10 of hearts\",\"J of hearts\",\n",
    "              \"Q of hearts\",\"K of hearts\",\"A of clubs\",\"2 of clubs\",\"3 of clubs\",\"4 of clubs\",\n",
    "              \"5 of clubs\",\"6 of clubs\",\"7 of clubs\",\"8 of clubs\",\"9 of clubs\",\"10 of clubs\",\n",
    "              \"J of clubs\",\"Q of clubs\",\"K of clubs\",\"A of diamonds\",\"2 of diamonds\",\"3 of diamonds\",\n",
    "              \"4 of diamonds\",\"5 of diamonds\",\"6 of diamonds\",\"7 of diamonds\",\"8 of diamonds\",\"9 of diamonds\",\n",
    "              \"10 of diamonds\",\"J of diamonds\",\"Q of diamonds\",\"K of diamonds\",\"Joker1\",\"Joker2\"]     "
   ]
  },
  {
   "cell_type": "markdown",
   "metadata": {},
   "source": [
    "Q2. Use the List you created in Q1. Draw 26 cards from this list using the random.choose function. The drawn cards should be put alternatively to 2 lists called player1_cards and player2_cards. This will be similar to how you distribute 13 cards each to two players in a card-game. We are using random function to capture the 'shuffling' we do before distributing. \n",
    "NOTE: Once you draw a card from the list, that card should be removed before you call random.choose again."
   ]
  },
  {
   "cell_type": "code",
   "execution_count": 12,
   "metadata": {},
   "outputs": [
    {
     "name": "stdout",
     "output_type": "stream",
     "text": [
      "first player's cards: ['2 of clubs', '2 of diamonds', 'J of spades', 'A of clubs', 'Q of spades', 'K of spades', '4 of clubs', 'K of diamonds', '9 of hearts', 'J of diamonds', '3 of diamonds', '9 of spades', '9 of clubs', 'Q of hearts', '4 of diamonds', '4 of spades', 'Q of clubs', '6 of clubs', '2 of hearts', '10 of spades', '5 of hearts', 'Joker2', '5 of diamonds', '3 of spades', '5 of spades', '8 of diamonds', '6 of hearts']\n",
      "second player's cards: ['10 of hearts', 'A of hearts', 'K of clubs', 'J of clubs', '10 of diamonds', '9 of diamonds', 'A of spades', '6 of diamonds', '2 of spades', '7 of spades', 'Joker1', '7 of hearts', '3 of hearts', 'Q of diamonds', 'K of hearts', '8 of spades', 'A of diamonds', '4 of hearts', '8 of hearts', '8 of clubs', 'J of hearts', '10 of clubs', '7 of diamonds', '7 of clubs', '5 of clubs', '6 of spades', '3 of clubs']\n"
     ]
    }
   ],
   "source": [
    "import random\n",
    "cards_list = [\"A of spades\",\"2 of spades\",\"3 of spades\",\"4 of spades\",\"5 of spades\",\"6 of spades\",\n",
    "              \"7 of spades\",\"8 of spades\",\"9 of spades\",\"10 of spades\",\"J of spades\",\"Q of spades\",\n",
    "              \"K of spades\",\"A of hearts\",\"2 of hearts\",\"3 of hearts\",\"4 of hearts\",\"5 of hearts\",\n",
    "              \"6 of hearts\",\"7 of hearts\",\"8 of hearts\",\"9 of hearts\",\"10 of hearts\",\"J of hearts\",\n",
    "              \"Q of hearts\",\"K of hearts\",\"A of clubs\",\"2 of clubs\",\"3 of clubs\",\"4 of clubs\",\n",
    "              \"5 of clubs\",\"6 of clubs\",\"7 of clubs\",\"8 of clubs\",\"9 of clubs\",\"10 of clubs\",\n",
    "              \"J of clubs\",\"Q of clubs\",\"K of clubs\",\"A of diamonds\",\"2 of diamonds\",\"3 of diamonds\",\n",
    "              \"4 of diamonds\",\"5 of diamonds\",\"6 of diamonds\",\"7 of diamonds\",\"8 of diamonds\",\"9 of diamonds\",\n",
    "              \"10 of diamonds\",\"J of diamonds\",\"Q of diamonds\",\"K of diamonds\",\"Joker1\",\"Joker2\"] \n",
    "person_1 = []\n",
    "person_2 = []\n",
    "count = 0\n",
    "for count in range (0,27):\n",
    "    i= random.choice(cards_list)\n",
    "    person_1.append(i)\n",
    "    cards_list.remove(i)\n",
    "    e=random.choice(cards_list)\n",
    "    person_2.append(e)\n",
    "    cards_list.remove(e)\n",
    "    count=count+1\n",
    "print(\"first player's cards:\",  person_1)\n",
    "print(\"second player's cards:\", person_2)"
   ]
  },
  {
   "cell_type": "markdown",
   "metadata": {},
   "source": [
    "Q3. You have list of strings. Each string has 2 characters (ex: ['1A', '4D']). First characer is the number second-character is a Alphabet. Out of this list, create following lists:\n",
    "1. A list with only the number from the strings. For ex: if the original list is ['1A', '4D'] the output should be [1, 4]\n",
    "2. Multiple lists with each list containing the strings having same character. If the original list is ['1A', '4D', '5A', '2D'] the output sill be ['1A', '5A'] and ['4D', '2D']\n",
    "3 Multiple lists with each list containing the strings having same number. If the original list is ['1A', '1D', '5A', '2D'] the output sill be ['1A', '1D],  ['5A'] and ['2D']"
   ]
  },
  {
   "cell_type": "code",
   "execution_count": 1,
   "metadata": {},
   "outputs": [
    {
     "ename": "NameError",
     "evalue": "name 'split' is not defined",
     "output_type": "error",
     "traceback": [
      "\u001b[1;31m---------------------------------------------------------------------------\u001b[0m",
      "\u001b[1;31mNameError\u001b[0m                                 Traceback (most recent call last)",
      "\u001b[1;32m<ipython-input-1-8fbfd41a0b6f>\u001b[0m in \u001b[0;36m<module>\u001b[1;34m\u001b[0m\n\u001b[0;32m      4\u001b[0m \u001b[0mlist_of_strings\u001b[0m\u001b[1;33m=\u001b[0m\u001b[1;33m[\u001b[0m\u001b[1;33m]\u001b[0m\u001b[1;33m\u001b[0m\u001b[1;33m\u001b[0m\u001b[0m\n\u001b[0;32m      5\u001b[0m \u001b[1;32mfor\u001b[0m \u001b[0mi\u001b[0m \u001b[1;32min\u001b[0m \u001b[0mol\u001b[0m\u001b[1;33m:\u001b[0m\u001b[1;33m\u001b[0m\u001b[1;33m\u001b[0m\u001b[0m\n\u001b[1;32m----> 6\u001b[1;33m     \u001b[0ml\u001b[0m \u001b[1;33m=\u001b[0m \u001b[0mlist\u001b[0m\u001b[1;33m(\u001b[0m\u001b[0msplit\u001b[0m\u001b[1;33m(\u001b[0m\u001b[0mi\u001b[0m\u001b[1;33m)\u001b[0m\u001b[1;33m)\u001b[0m\u001b[1;33m\u001b[0m\u001b[1;33m\u001b[0m\u001b[0m\n\u001b[0m\u001b[0;32m      7\u001b[0m     \u001b[0mlist_of_numbers\u001b[0m\u001b[1;33m.\u001b[0m\u001b[0mappend\u001b[0m\u001b[1;33m(\u001b[0m\u001b[0ml\u001b[0m\u001b[1;33m[\u001b[0m\u001b[1;36m0\u001b[0m\u001b[1;33m]\u001b[0m\u001b[1;33m)\u001b[0m\u001b[1;33m\u001b[0m\u001b[1;33m\u001b[0m\u001b[0m\n\u001b[0;32m      8\u001b[0m     \u001b[0mlist_of_strings\u001b[0m\u001b[1;33m.\u001b[0m\u001b[0mappend\u001b[0m\u001b[1;33m(\u001b[0m\u001b[0ml\u001b[0m\u001b[1;33m[\u001b[0m\u001b[1;36m1\u001b[0m\u001b[1;33m]\u001b[0m\u001b[1;33m)\u001b[0m\u001b[1;33m\u001b[0m\u001b[1;33m\u001b[0m\u001b[0m\n",
      "\u001b[1;31mNameError\u001b[0m: name 'split' is not defined"
     ]
    }
   ],
   "source": [
    "ol = ['1A','4D','5A','2D']\n",
    "# question 1 \n",
    "list_of_numbers=[]\n",
    "list_of_strings=[]\n",
    "for i in ol:\n",
    "    l = list(split(i))\n",
    "    list_of_numbers.append(l[0])\n",
    "    list_of_strings.append(l[1])\n",
    "    \n",
    "print(list_of_numbers)\n",
    "\n",
    "#question 2\n",
    "broken_down_list=[]\n",
    "for i in ol:\n",
    "    charl=list(split(i))\n",
    "    broken_down_list.append(charl)\n",
    "    char=charl[1]\n",
    "    print(broken_down_list)\n",
    "    if char in broken_down_list:\n",
    "        print(\"something\")\n",
    "    "
   ]
  },
  {
   "cell_type": "markdown",
   "metadata": {},
   "source": [
    "Q4. Write a helper, who takes of list of numbers and tells whether there is a 3-number sequence in that list? It should return TRUE (if sequence exists) or FALSE (if no sequence). For example, if the list is [1, 4, 5, 9, 8, 6] - It should return TRUE."
   ]
  },
  {
   "cell_type": "code",
   "execution_count": null,
   "metadata": {},
   "outputs": [],
   "source": []
  },
  {
   "cell_type": "markdown",
   "metadata": {},
   "source": [
    "Q5. Write a helper, who takes the list of strings (similar to Q3), and tell if it has at least 3 strings that has: same number, but different character."
   ]
  },
  {
   "cell_type": "code",
   "execution_count": null,
   "metadata": {},
   "outputs": [],
   "source": []
  },
  {
   "cell_type": "markdown",
   "metadata": {},
   "source": [
    "Q6. Use the above programs to tell if (a) any player has 'First Rummy' (b) A Set."
   ]
  },
  {
   "cell_type": "code",
   "execution_count": null,
   "metadata": {},
   "outputs": [],
   "source": []
  }
 ],
 "metadata": {
  "kernelspec": {
   "display_name": "Python 3",
   "language": "python",
   "name": "python3"
  },
  "language_info": {
   "codemirror_mode": {
    "name": "ipython",
    "version": 3
   },
   "file_extension": ".py",
   "mimetype": "text/x-python",
   "name": "python",
   "nbconvert_exporter": "python",
   "pygments_lexer": "ipython3",
   "version": "3.7.6"
  }
 },
 "nbformat": 4,
 "nbformat_minor": 2
}
