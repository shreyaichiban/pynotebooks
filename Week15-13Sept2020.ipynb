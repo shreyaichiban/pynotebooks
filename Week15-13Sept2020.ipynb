{
 "cells": [
  {
   "cell_type": "markdown",
   "metadata": {},
   "source": [
    "# Week 15 - Assignment 13 September 2020"
   ]
  },
  {
   "cell_type": "markdown",
   "metadata": {},
   "source": [
    "Q1. Use matplotlib to create a graph of Ages of all the members of your family."
   ]
  },
  {
   "cell_type": "code",
   "execution_count": 3,
   "metadata": {
    "scrolled": true
   },
   "outputs": [
    {
     "data": {
      "text/plain": [
       "<function matplotlib.pyplot.show(*args, **kw)>"
      ]
     },
     "execution_count": 3,
     "metadata": {},
     "output_type": "execute_result"
    },
    {
     "data": {
      "image/png": "[encoded data removed]",
      "text/plain": [
       "<Figure size 432x288 with 1 Axes>"
      ]
     },
     "metadata": {
      "needs_background": "light"
     },
     "output_type": "display_data"
    }
   ],
   "source": [
    "from matplotlib import pyplot as x\n",
    "x.bar([\"Maithri\",\"Pallavi\",\"Prema\",\"Saraswati\",\"Shreya\",\"Sridhar\",\"Sripad\"],[11,40,65,40,15,45,46],label = 'Age',color='g')\n",
    "x.xlabel(\"People\")\n",
    "x.ylabel(\"Ages\")\n",
    "x.legend()\n",
    "x.show"
   ]
  },
  {
   "cell_type": "markdown",
   "metadata": {},
   "source": [
    "Q2. Consider twin sisters - Sita and Gita. They are 6 year old and both are 3ft in height. Imagine every year they grow by anywhere between (1.0 to 3.0 Inches - 1.0, 1.2, 1.4, 1.6, 1.8, 2.0, 2.2, 2.4, 2.6 2.8 and 3.0). When They are 18, who will be the tallest? "
   ]
  },
  {
   "cell_type": "code",
   "execution_count": 11,
   "metadata": {},
   "outputs": [
    {
     "name": "stdout",
     "output_type": "stream",
     "text": [
      "Sita is taller\n"
     ]
    }
   ],
   "source": [
    "import random\n",
    "growth = [1.0, 1.2, 1.4, 1.6, 1.8, 2.0, 2.2, 2.4, 2.6,2.8,3.0]\n",
    "sita = []\n",
    "gita = []\n",
    "for i in range(0,12):\n",
    "    a= random.choice(growth)\n",
    "    sita.append(a)\n",
    "    e= random.choice(growth)\n",
    "    gita.append(e)\n",
    "ss=sum(sita)\n",
    "gs=sum(gita)\n",
    "if ss > gs:\n",
    "    print(\"Sita is taller\")\n",
    "elif gs > ss :\n",
    "    print(\"Gita is taller\")\n",
    "    \n"
   ]
  },
  {
   "cell_type": "markdown",
   "metadata": {},
   "source": [
    "Q3. Plot the per-year growth (for 12 years) of Sita and Gita."
   ]
  },
  {
   "cell_type": "code",
   "execution_count": 16,
   "metadata": {},
   "outputs": [
    {
     "data": {
      "text/plain": [
       "<function matplotlib.pyplot.show(*args, **kw)>"
      ]
     },
     "execution_count": 16,
     "metadata": {},
     "output_type": "execute_result"
    },
    {
     "data": {
      "image/png": "[encoded data removed]",
      "text/plain": [
       "<Figure size 432x288 with 1 Axes>"
      ]
     },
     "metadata": {
      "needs_background": "light"
     },
     "output_type": "display_data"
    }
   ],
   "source": [
    "import random\n",
    "growth = [1.0, 1.2, 1.4, 1.6, 1.8, 2.0, 2.2, 2.4, 2.6,2.8,3.0]\n",
    "sita = []\n",
    "gita = []\n",
    "for i in range(0,12):\n",
    "    a= random.choice(growth)\n",
    "    sita.append(a)\n",
    "    e= random.choice(growth)\n",
    "    gita.append(e)\n",
    "from matplotlib import pyplot as py\n",
    "py.plot(sita,range(0,12,1),label = 'Sita',color = 'r')\n",
    "py.plot(gita,range(0,12,1),label = 'Gita',color = 'g')\n",
    "py.legend()\n",
    "py.show"
   ]
  },
  {
   "cell_type": "markdown",
   "metadata": {},
   "source": [
    "Q4. Use turtle to draw any letter from your name."
   ]
  },
  {
   "cell_type": "code",
   "execution_count": 17,
   "metadata": {},
   "outputs": [],
   "source": [
    "import turtle\n",
    "s= turtle .Screen()\n",
    "t = turtle.Turtle()\n",
    "t.left(45)\n",
    "t.forward(140)\n",
    "t.right(90)\n",
    "t.forward(140)\n",
    "t.up()\n",
    "t.backward(70)\n",
    "t.right(135)\n",
    "t.down()\n",
    "t.forward(100)\n",
    "t.up()\n",
    "t.backward(100)\n",
    "t.left(135)\n",
    "t.forward(70)\n",
    "t.left(45)\n",
    "t.down()"
   ]
  },
  {
   "cell_type": "markdown",
   "metadata": {},
   "source": [
    "Q5. Create your own programming problem - solving it should require to use the following 5:\n",
    "1. For Loop\n",
    "2. Writing or Reading from File.\n",
    "3. If-then-else condition.\n",
    "4. Write a Helper.\n",
    "5. Take input from user."
   ]
  },
  {
   "cell_type": "code",
   "execution_count": 8,
   "metadata": {
    "scrolled": true
   },
   "outputs": [
    {
     "name": "stdout",
     "output_type": "stream",
     "text": [
      "['Pepperoni', 'Mushrooms', 'Cheese', 'Jalapenos', 'Bell Peppers', 'Truffles']\n",
      "enter the number of toppings you want 1\n",
      "1\n",
      "Enter a number to pick a topping 0\n",
      "['Pepperoni']\n"
     ]
    }
   ],
   "source": [
    "def toppings(x):\n",
    "    a = int(input(\"enter the number of toppings you want \"))\n",
    "    print(a)\n",
    "    ot=[]\n",
    "    for i in range(0,a):\n",
    "        t = int(input(\"Enter a number to pick a topping \"))\n",
    "        if t>=0 and t<=5:\n",
    "            ot.append(x[t])\n",
    "            print(ot)\n",
    "        else:\n",
    "            print(\"you entered the wrong number\")\n",
    "    \n",
    "    return(ot)\n",
    "pt=[\"Pepperoni\",\"Mushrooms\",\"Cheese\",\"Jalapenos\",\"Bell Peppers\",\"Truffles\"]\n",
    "print(pt)\n",
    "p= open('pizza_toppings.txt','w')\n",
    "for i in toppings(pt):\n",
    "    p.write(i)"
   ]
  },
  {
   "cell_type": "markdown",
   "metadata": {},
   "source": [
    "##### Q6. Solve the Q5."
   ]
  },
  {
   "cell_type": "code",
   "execution_count": null,
   "metadata": {},
   "outputs": [],
   "source": []
  }
 ],
 "metadata": {
  "kernelspec": {
   "display_name": "Python 3",
   "language": "python",
   "name": "python3"
  },
  "language_info": {
   "codemirror_mode": {
    "name": "ipython",
    "version": 3
   },
   "file_extension": ".py",
   "mimetype": "text/x-python",
   "name": "python",
   "nbconvert_exporter": "python",
   "pygments_lexer": "ipython3",
   "version": "3.7.6"
  }
 },
 "nbformat": 4,
 "nbformat_minor": 2
}
