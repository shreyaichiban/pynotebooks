{
 "cells": [
  {
   "cell_type": "markdown",
   "metadata": {},
   "source": [
    "# Week3 - 15 June 2020"
   ]
  },
  {
   "cell_type": "markdown",
   "metadata": {},
   "source": [
    "Q1: Improve the Program in Week-1 to find if it is one of the three types of triangles: Right-angled, Obtuse, Equilateral. The code from week-1 is given below. Change the ...... to proper condition.\n"
   ]
  },
  {
   "cell_type": "code",
   "execution_count": 31,
   "metadata": {},
   "outputs": [
    {
     "name": "stdout",
     "output_type": "stream",
     "text": [
      "This is a Obtuse Triangle\n"
     ]
    }
   ],
   "source": [
    "angle_1 = 10\n",
    "angle_2 = 70\n",
    "angle_3 = 100\n",
    "sum_of_angles = angle_1 + angle_2 + angle_3\n",
    "if sum_of_angles != 180:\n",
    "    print(\"Please enter correct values - Sum of angles should be 180\")\n",
    "elif angle_1 == 0 or angle_2 == 0 or angle_3 == 0:\n",
    "    print(\"Please enter correct values - Angle values should be greater than 0\")\n",
    "else:  \n",
    "    # The values of angles are correct.. lets start\n",
    "    if angle_1 == 90 or angle_2 == 90 or angle_3 == 90:\n",
    "        print(\"This is a Right-angle triangle.\")\n",
    "    if angle_1== angle_2== angle_3:\n",
    "        print('This is an Equilateral triangle')\n",
    "    if angle_1> 90 or angle_2> 90 or angle_3 > 90:\n",
    "        print(\"This is an Obtuse Triangle\")"
   ]
  },
  {
   "cell_type": "markdown",
   "metadata": {},
   "source": [
    "Q2. In Week-2, you created 3 dictionaries of books. Can you put those three in a list? You can use the code below. "
   ]
  },
  {
   "cell_type": "code",
   "execution_count": 32,
   "metadata": {},
   "outputs": [
    {
     "name": "stdout",
     "output_type": "stream",
     "text": [
      "[{'title: Harry Potter,The Penderwicks; Paper Townsauthor: J.K Rowling; Jeanne Birdsall; John Greenprice_in_rs: 700;800;900'}]\n"
     ]
    }
   ],
   "source": [
    "\n",
    "dict={\n",
    "     \"title: Harry Potter,The Penderwicks; Paper Towns\"\n",
    "    \"author: J.K Rowling; Jeanne Birdsall; John Green\"\n",
    "    \"price_in_rs: 700;800;900\" \n",
    "}\n",
    "list_of_books = []\n",
    "list_of_books.append(dict)\n",
    "print(list_of_books)\n",
    "# Dictionary of book1\n",
    "\n",
    "# Dictionary of book2\n",
    "\n",
    "# Dictionary of book3\n",
    "\n",
    "# Hint: Use append function. Google for how to use append? Append dictionaries to the list_of_books"
   ]
  },
  {
   "cell_type": "markdown",
   "metadata": {},
   "source": [
    "Q3. Print the Movie I hate. Don't just print the name, USE THE KEY 'hate' to print the movie."
   ]
  },
  {
   "cell_type": "code",
   "execution_count": 35,
   "metadata": {},
   "outputs": [
    {
     "name": "stdout",
     "output_type": "stream",
     "text": [
      "Kabhi Kushi Kabhi Ghamjumanji\n"
     ]
    }
   ],
   "source": [
    "my_movies = {'love': 'Shawshank Redemption', 'boring': 'Harry Potter',\n",
    "             'interesting': 'Avengers', 'hate': 'Kabhi Kushi Kabhi Gham'}\n",
    "movies_hate =my_movies['hate']\n",
    "print(str(movies_hate))"
   ]
  },
  {
   "cell_type": "markdown",
   "metadata": {},
   "source": [
    "Q4. Given a name tell if it is a boy or girl. Complete the code"
   ]
  },
  {
   "cell_type": "code",
   "execution_count": 25,
   "metadata": {
    "collapsed": true
   },
   "outputs": [
    {
     "name": "stdout",
     "output_type": "stream",
     "text": [
      "He is a BOY\n"
     ]
    }
   ],
   "source": [
    "boys=['Liam','Noah','William','James','Oliver','Benjamin','Elijah', 'Lucas', 'Mason','Logan']\n",
    "girls = ['Emma','Olivia','Ava','Isabella','Sophia','Charlotte','Christina','Evelyn','Mia','Amelia']\n",
    "name = 'Liam'\n",
    "if name==name in boys :\n",
    "    print(\"He is a BOY\")\n",
    "elif name== name in girls:\n",
    "    print(\"She is a GIRL\")\n",
    "else:\n",
    "    print(\"I DON'T KNOW\")"
   ]
  },
  {
   "cell_type": "markdown",
   "metadata": {},
   "source": [
    "Q5. Write in English what this program is doing?"
   ]
  },
  {
   "cell_type": "code",
   "execution_count": 33,
   "metadata": {
    "collapsed": true
   },
   "outputs": [
    {
     "name": "stdout",
     "output_type": "stream",
     "text": [
      "21\n"
     ]
    }
   ],
   "source": [
    "words=[\"Emma\", \"Olivia\", \"Ava\", \"Isabella\", \"Sophia\", \"Charlotte\",\n",
    "       \"Mia\", \"Amelia\", \"Harper\", \"Evelyn\", \"Abigail\", \"Emily\",\n",
    "       \"Elizabeth\", \"Mila\", \"Ella\", \"Avery\", \"Sofia\", \"Camila\",\n",
    "       \"Aria\", \"Scarlett\", \"Victoria\", \"Madison\", \"Luna\", \"Grace\",\n",
    "       \"Chloe\", \"Penelope\", \"Layla\", \"Riley\", \"Zoey\", \"Nora\", \n",
    "       \"Lily\", \"Eleanor\", \"Hannah\", \"Lillian\", \"Addison\",\n",
    "       \"Aubrey\", \"Ellie\", \"Stella\", \"Natalie\", \"Zoe\", \"Leah\", \"Hazel\", \n",
    "       \"Violet\", \"Aurora\", \"Savannah\", \"Audrey\", \"Brooklyn\", \"Bella\", \n",
    "       \"Claire\", \"Skylar\", \"Lucy\", \"Paisley\", \"Everly\", \"Anna\", \"Caroline\",\n",
    "       \"Nova\", \"Genesis\", \"Emilia\", \"Kennedy\", \"Samantha\", \"Maya\", \"Willow\",\n",
    "       \"Kinsley\", \"Naomi\", \"Aaliyah\", \"Elena\", \"Sarah\", \"Ariana\", \"Allison\",\n",
    "       \"Gabriella\", \"Alice\", \"Madelyn\", \"Cora\", \"Ruby\", \"Eva\", \"Serenity\",\n",
    "       \"Autumn\", \"Adeline\", \"Hailey\", \"Gianna\", \"Valentina\", \"Isla\", \"Eliana\",\n",
    "       \"Quinn\", \"Nevaeh\", \"Ivy\", \"Sadie\", \"Piper\", \"Lydia\", \"Alexa\", \"Josephine\",\n",
    "       \"Emery\", \"Julia\", \"Delilah\", \"Arianna\", \"Vivian\", \"Kaylee\", \"Sophie\",\n",
    "       \"Brielle\", \"Madeline\", \"Peyton\", \"Rylee\", \"Clara\", \"Hadley\", \"Melanie\",\n",
    "       \"Mackenzie\", \"Reagan\", \"Adalynn\", \"Liliana\", \"Aubree\", \"Jade\", \"Katherine\",\n",
    "       \"Isabelle\", \"Natalia\", \"Raelynn\", \"Maria\", \"Athena\", \"Ximena\", \"Arya\",\n",
    "       \"Leilani\", \"Taylor\", \"Faith\", \"Rose\", \"Kylie\", \"Alexandra\", \"Mary\", \"Margaret\",\n",
    "       \"Lyla\", \"Ashley\", \"Amaya\", \"Eliza\", \"Brianna\", \"Bailey\", \"Andrea\", \"Khloe\",\n",
    "       \"Jasmine\", \"Melody\", \"Iris\", \"Isabel\", \"Norah\", \"Annabelle\", \"Valeria\",\n",
    "       \"Emerson\", \"Adalyn\", \"Ryleigh\", \"Eden\", \"Emersyn\", \"Anastasia\", \"Kayla\",\n",
    "       \"Alyssa\", \"Juliana\", \"Charlie\", \"Esther\", \"Ariel\", \"Cecilia\", \"Valerie\", \"Alina\",\n",
    "       \"Molly\", \"Reese\", \"Aliyah\", \"Lilly\", \"Parker\", \"Finley\", \"Morgan\", \"Sydney\", \"Jordyn\",\n",
    "       \"Eloise\", \"Trinity\", \"Daisy\", \"Kimberly\", \"Lauren\", \"Genevieve\", \"Sara\", \"Arabella\"]\n",
    "count = 0\n",
    "for word in words:\n",
    "  word = word.lower()\n",
    "  if len(word) >= 2 and word[0] == word[-1]:\n",
    "    count = count + 1\n",
    "print(count)"
   ]
  },
  {
   "cell_type": "code",
   "execution_count": null,
   "metadata": {},
   "outputs": [],
   "source": []
  }
 ],
 "metadata": {
  "kernelspec": {
   "display_name": "Python 3",
   "language": "python",
   "name": "python3"
  },
  "language_info": {
   "codemirror_mode": {
    "name": "ipython",
    "version": 3
   },
   "file_extension": ".py",
   "mimetype": "text/x-python",
   "name": "python",
   "nbconvert_exporter": "python",
   "pygments_lexer": "ipython3",
   "version": "3.7.6"
  }
 },
 "nbformat": 4,
 "nbformat_minor": 2
}
