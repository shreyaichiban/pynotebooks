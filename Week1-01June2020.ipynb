{
 "cells": [
  {
   "cell_type": "markdown",
   "metadata": {},
   "source": [
    "# Week-1 Assignment 01-June-2020\n",
    "Please complete this by 06-June-2020"
   ]
  },
  {
   "cell_type": "markdown",
   "metadata": {},
   "source": [
    "## NOT TO FORGET THINGS\n",
    "1. Creating a variable: name = value (ex: num = 10, iam = \"Sridhar\"). Singe = means ASSIGNMENT. Assigning a value to a variable.\n",
    "2. Built-in function. function_name(input) (ex: print(\"Hello world\"). Do not forget brackets. print, len, range, random, str, endswith, startswitch, split, lower, upper, open\n",
    "3. Conditionals-1. if <condition> :  Do not foget colon.\n",
    "4. Conditionals-2. If condition is satisfied, in new line with 4 spaces add actions\n",
    "5. Conditionals-3. You can use else: Do not forget colon after else. You can also do else if <condition>:\n",
    "6. You can create list of items like this: name = [1, 2, 3]\n",
    "7. Do not forget quotes around strings. Do not put quotes around variable names.\n",
    "8. Functions-1 syntax def <function_name>(input): . Followed by set of actions. Do not forget colon.\n",
    "9. Functions- Similar to if, all actions should be spaced by 4 spaces in newlines\n",
    "10. Do not use as variable the keywords  (words that belong to python and you cannot use it as variable name) - if, else, def, import, \n",
    "11. Try to remember mathematical operators.\n",
    "12. Using == makes the expression a \"True/False\" statement. Do not use = in if condition checking.\n",
    "13. for loop. for single_element in list: new line, 4 spaces then actions.\n",
    "14. You can use range(number) to get a number list - this is used to do same thing multiple times.\n",
    "15 To work with file you need \"Handler\" (like a bookmarker, that can help in both reading and writing). Use that handler to read and write.\n",
    "16. filehandler = open(\"filename\", \"mode\"). Don't forget to put filename in quotes. Don't forget to put mode in quotes. Mode can be \"r\", \"w\", \"a+\" - which means read, write and append.\n",
    "17. A Boolean type take only 2 values True or False. amIsmart = True\n",
    "18. To create a dictionary use {}. Do not forget to put keys in Quotes. The values can be of any data type.\n",
    "19. You can access the each value using dictionary_name[keyname].\n",
    "20. Dictionaries are very powerful - master it."
   ]
  },
  {
   "cell_type": "markdown",
   "metadata": {},
   "source": [
    "Q1. Create variables of following Types and assign some values to it.\n",
    "1. Integer\n",
    "2. Decimal\n",
    "3. String\n",
    "4. Character\n",
    "5. List of Numbers\n",
    "6. Boolean"
   ]
  },
  {
   "cell_type": "code",
   "execution_count": 8,
   "metadata": {},
   "outputs": [],
   "source": [
    "num=2\n",
    "dec=2.2\n",
    "string=\"shreya\"\n",
    "char=\"a\"\n",
    "listofnumbers=[3,4,5,6,7]"
   ]
  },
  {
   "cell_type": "markdown",
   "metadata": {},
   "source": [
    "Q2. Write a Program that takes two numbers and does the following and prints the results.\n",
    "1. Add them\n",
    "2. Subract one from another.\n",
    "3. Multiple\n",
    "4. Divide\n",
    "Complete the code below."
   ]
  },
  {
   "cell_type": "code",
   "execution_count": 6,
   "metadata": {},
   "outputs": [
    {
     "name": "stdout",
     "output_type": "stream",
     "text": [
      "13\n",
      "1\n",
      "42\n",
      "1.1666666666666667\n"
     ]
    }
   ],
   "source": [
    "# Variables for two numbers\n",
    "number1 = 7\n",
    "number2 =6 \n",
    "plus =number1+number2\n",
    "minus =number1-number2\n",
    "multi = number1*number2\n",
    "division = number1/number2\n",
    "print(plus)\n",
    "print(minus)\n",
    "print(multi)\n",
    "print(division)"
   ]
  },
  {
   "cell_type": "markdown",
   "metadata": {},
   "source": [
    "\n",
    "Q3. Create a string variable, assign a value and print the length of the string."
   ]
  },
  {
   "cell_type": "code",
   "execution_count": 5,
   "metadata": {},
   "outputs": [
    {
     "name": "stdout",
     "output_type": "stream",
     "text": [
      "6\n"
     ]
    }
   ],
   "source": [
    "mystring= \"Shreya\"\n",
    "print(len(mystring))"
   ]
  },
  {
   "cell_type": "markdown",
   "metadata": {},
   "source": [
    "Q4. Given 3 angles, write a program to check if it forms a triangle. If it does, check it is a 'RIGHT-angle' Triangle. Complete the code below."
   ]
  },
  {
   "cell_type": "code",
   "execution_count": 6,
   "metadata": {
    "scrolled": true
   },
   "outputs": [
    {
     "name": "stdout",
     "output_type": "stream",
     "text": [
      "it is not a triangle\n"
     ]
    }
   ],
   "source": [
    "angle_1 = 90\n",
    "angle_2 = 90\n",
    "angle_3 =0\n",
    "sum_of_angles =angle_1+angle_2+angle_3 \n",
    "if sum_of_angles != 180:\n",
    "    print(\"it is not a triangle\")\n",
    "elif angle_1 >= 0 or angle_2 >= 0 or angle_3 >= 0:\n",
    "    print(\"it is not a triangle\")\n",
    "else:\n",
    "    print(\"it is a triangle\")\n",
    "    if angle_1 == 90 or angle_2 == 90 or angle_3 == 90:\n",
    "        print (\"This is a Right-angle triangle.\")"
   ]
  },
  {
   "cell_type": "markdown",
   "metadata": {},
   "source": [
    "Q5. Given a Radius Find the area of the circle. Complete the code below"
   ]
  },
  {
   "cell_type": "code",
   "execution_count": 3,
   "metadata": {},
   "outputs": [
    {
     "name": "stdout",
     "output_type": "stream",
     "text": [
      "Area of the Circle is 78.5\n"
     ]
    }
   ],
   "source": [
    "radius = 5\n",
    "area = 3.14*radius*radius\n",
    "print(\"Area of the Circle is\",area)"
   ]
  },
  {
   "cell_type": "code",
   "execution_count": null,
   "metadata": {},
   "outputs": [],
   "source": []
  }
 ],
 "metadata": {
  "kernelspec": {
   "display_name": "Python 3",
   "language": "python",
   "name": "python3"
  },
  "language_info": {
   "codemirror_mode": {
    "name": "ipython",
    "version": 3
   },
   "file_extension": ".py",
   "mimetype": "text/x-python",
   "name": "python",
   "nbconvert_exporter": "python",
   "pygments_lexer": "ipython3",
   "version": "3.7.6"
  }
 },
 "nbformat": 4,
 "nbformat_minor": 2
}
