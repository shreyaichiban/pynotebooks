{
 "cells": [
  {
   "cell_type": "markdown",
   "metadata": {},
   "source": [
    "# Week-4 Assignment 22 June 2020"
   ]
  },
  {
   "cell_type": "markdown",
   "metadata": {},
   "source": [
    "Q1. Consider two numbers number1 and number2. Take 'sign' input from user - User has to enter + or - or * or /. Accordingly, you do the operation and store the result. For example, if user enters + do the addition. You can complete the program below (.... lines)"
   ]
  },
  {
   "cell_type": "code",
   "execution_count": null,
   "metadata": {},
   "outputs": [],
   "source": [
    "number1 = 10\n",
    "number2 = 20\n",
    "result = 0\n",
    "sign=input(\"enter an operator\")\n",
    "if sign == '+':\n",
    "    result= number1 + number2\n",
    "elif sign == '-':\n",
    "    result = number1 - number2\n",
    "elif sign == '*':\n",
    "    result =  number1*number\n",
    "elif sign == '/':\n",
    "    result = number1/number2\n",
    "print(result)\n",
    "    "
   ]
  },
  {
   "cell_type": "markdown",
   "metadata": {},
   "source": [
    "Q2. Here is a list of dictionary of your friends, print their ages. Clue: use the for loop to go through each and every dictionary, and for each dictionary, print the age - myfriends is a box that holds many dictionaries"
   ]
  },
  {
   "cell_type": "code",
   "execution_count": 21,
   "metadata": {},
   "outputs": [
    {
     "ename": "SyntaxError",
     "evalue": "invalid syntax (<ipython-input-21-e7accbdbbeff>, line 4)",
     "output_type": "error",
     "traceback": [
      "\u001b[1;36m  File \u001b[1;32m\"<ipython-input-21-e7accbdbbeff>\"\u001b[1;36m, line \u001b[1;32m4\u001b[0m\n\u001b[1;33m    name_of_friend = ''\u001b[0m\n\u001b[1;37m                 ^\u001b[0m\n\u001b[1;31mSyntaxError\u001b[0m\u001b[1;31m:\u001b[0m invalid syntax\n"
     ]
    }
   ],
   "source": [
    "myfriends = [{'name': 'Kiran', 'age':45}, {'name': 'Shankar', 'age':32}, {'name': 'Swaroop', 'age':42}, {'name': 'Harsha', 'age':22}\n",
    "\n",
    "\n",
    "name_of_friend = ''\n",
    "\n",
    "      if name_of_friend == 'Kiran' in myfriends:\n",
    "             print(\"age is 45)\n",
    "      if name_of_ friend == 'Shankar' in myfriends:\n",
    "                   print(\"age is 32\")\n",
    "      \n",
    "             \n",
    "             \n",
    "\n"
   ]
  },
  {
   "cell_type": "markdown",
   "metadata": {},
   "source": [
    "Q3. What is this program doing?"
   ]
  },
  {
   "cell_type": "code",
   "execution_count": 4,
   "metadata": {},
   "outputs": [
    {
     "name": "stdout",
     "output_type": "stream",
     "text": [
      "4\n"
     ]
    }
   ],
   "source": [
    "jar = 5\n",
    "glass_amount = 1.5\n",
    "served_glasses = 0\n",
    "\n",
    "for count in range(100):\n",
    "    if jar > 0:\n",
    "        jar = jar - glass_amount\n",
    "        served_glasses = served_glasses + 1\n",
    "    else:\n",
    "        break\n",
    "\n",
    "print(served_glasses)\n",
    "#It outputs how many glasses can be served depending on the amount of liqid in the jar and the amount of liqid the glass can hold"
   ]
  },
  {
   "cell_type": "markdown",
   "metadata": {},
   "source": [
    "Q4. You have 6 friends. You are inviting them to your birthday party. But not all should come at same time. 'ramya' and 'radhika' to come at 6PM, 'deepika' and 'sana' should come at 615PM, and 'meghana' and 'bhavana' should come at 630PM.  Complete the program."
   ]
  },
  {
   "cell_type": "code",
   "execution_count": 5,
   "metadata": {},
   "outputs": [
    {
     "name": "stdout",
     "output_type": "stream",
     "text": [
      "Hi bhavana.  Please come to my party at 6:30PM !\n"
     ]
    }
   ],
   "source": [
    "friends = ['ramya', 'deepika', 'meghana', 'sana', 'radhika', 'bhavana']\n",
    "for friend in friends:\n",
    "    if friend=='ramya'or friend=='radhika':\n",
    "        invitation = \"Hi \" + friend + \".  Please come to my party at 6PM !\"\n",
    "    elif friend==\"deepika\" or friend=='sana':\n",
    "        invitation = \"Hi \" + friend + \".  Please come to my party at 6:15PM!\"\n",
    "    elif friend=='meghana' or friend=='bhavana':\n",
    "        invitation = \"Hi \" + friend + \".  Please come to my party at 6:30PM !\"\n",
    "print(invitation)"
   ]
  },
  {
   "cell_type": "markdown",
   "metadata": {},
   "source": [
    "Q5. Imagine you have list of numbers like this numbers = [10, 50, 3, 100, 1, 500, 9]. Write steps in english, on how you will arrange the numbers in Increasing order?. This is also called as sorting in ascending order."
   ]
  },
  {
   "cell_type": "markdown",
   "metadata": {},
   "source": []
  }
 ],
 "metadata": {
  "kernelspec": {
   "display_name": "Python 3",
   "language": "python",
   "name": "python3"
  },
  "language_info": {
   "codemirror_mode": {
    "name": "ipython",
    "version": 3
   },
   "file_extension": ".py",
   "mimetype": "text/x-python",
   "name": "python",
   "nbconvert_exporter": "python",
   "pygments_lexer": "ipython3",
   "version": "3.7.6"
  }
 },
 "nbformat": 4,
 "nbformat_minor": 2
}
