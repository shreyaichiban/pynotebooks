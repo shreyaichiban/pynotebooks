{
 "cells": [
  {
   "cell_type": "markdown",
   "metadata": {},
   "source": [
    "# Week-6 Assignment - 6 July 2020."
   ]
  },
  {
   "cell_type": "markdown",
   "metadata": {},
   "source": [
    "Q1. What is this Code doing? Google to identify what the \"operator-symbols\" mean "
   ]
  },
  {
   "cell_type": "code",
   "execution_count": 3,
   "metadata": {},
   "outputs": [
    {
     "name": "stdout",
     "output_type": "stream",
     "text": [
      "11\n",
      "13\n",
      "17\n",
      "19\n",
      "23\n"
     ]
    }
   ],
   "source": [
    "start = 11\n",
    "end = 25\n",
    "for val in range(start, end + 1): \n",
    "    if val > 1: \n",
    "        for n in range(2, val//2 + 2): \n",
    "            if (val % n) == 0: \n",
    "                break\n",
    "            else: \n",
    "                if n == val//2 + 1: \n",
    "                    print(val) \n",
    "# it prints all the odd numbers from 11 to 25"
   ]
  },
  {
   "cell_type": "markdown",
   "metadata": {},
   "source": [
    "Q2. Write the same program what you did in Week-4 Q1, but this time using Functions. You should write 4 helpers - to add, subtract, multiply and divide numbers. Helpers will take two numbers and return the result. Take the 'operator' as input from the user - just like you did last time, and call the appropriate helper and print the result. "
   ]
  },
  {
   "cell_type": "code",
   "execution_count": 15,
   "metadata": {},
   "outputs": [
    {
     "name": "stdout",
     "output_type": "stream",
     "text": [
      "Enter Operator: *\n",
      "600\n"
     ]
    }
   ],
   "source": [
    "def func1(arg):\n",
    "    return(number1 + number2)\n",
    "def func2(arg):\n",
    "    return(number1 - number2)\n",
    "def func3(arg):\n",
    "    return(number1 * number2)\n",
    "def func4(arg):\n",
    "    return(number1 / number2)\n",
    "number1 = 20\n",
    "number2 = 30\n",
    "result = 0\n",
    "operation = input(\"Enter Operator: \")\n",
    "if operation == '+':\n",
    "    func1(operation)\n",
    "    print(number1 + number2)\n",
    "elif operation == '-':\n",
    "    func2(operation)\n",
    "    print(number1 - number2)\n",
    "elif operation == '*':\n",
    "    func3(operation)\n",
    "    print(number1 * number2)\n",
    "elif operation == '/':\n",
    "    func4(operation)\n",
    "    print(number1 / number2)\n",
    "else :\n",
    "    print('Enter valid operator')"
   ]
  },
  {
   "cell_type": "markdown",
   "metadata": {},
   "source": [
    "Q3. Can you explain \"IN ENGLISH\" how you  will print the output like this? You should use *only 1* print statement."
   ]
  },
  {
   "cell_type": "code",
   "execution_count": 13,
   "metadata": {
    "scrolled": true
   },
   "outputs": [
    {
     "name": "stdout",
     "output_type": "stream",
     "text": [
      "1 1 2 1 2 3 1 2 3 4 1 2 3 4 5 1 2 3 4 5 6 1 2 3 4 5 6 7 1 2 3 4 5 6 7 8 1 2 3 4 5 6 7 8 9 "
     ]
    }
   ],
   "source": [
    "\n",
    "\n",
    "1\n",
    "1 2\n",
    "1 2 3\n",
    "1 2 3 4\n",
    "1 2 3 4 5\n",
    "1 2 3 4 5 6\n",
    "1 2 3 4 5 6 7\n",
    "1 2 3 4 5 6 7 8 \n",
    "1 2 3 4 5 6 7 8 9\n",
    "#use two for loops\n",
    "\n",
    "    \n",
    "\n",
    "     \n"
   ]
  },
  {
   "cell_type": "code",
   "execution_count": null,
   "metadata": {},
   "outputs": [],
   "source": []
  },
  {
   "cell_type": "markdown",
   "metadata": {},
   "source": [
    "Your Explanation for Q3:"
   ]
  },
  {
   "cell_type": "markdown",
   "metadata": {},
   "source": [
    "Q4. Your height is 4ft, your mom's height is 5ft, your dad's height is 6ft. If you three form a triangle, what is the area of that triangle? Write a program to to calculate and print this area. If you don't know the formula to find the area of a triangle, given 3 sides, see here: https://www.mathsisfun.com/geometry/herons-formula.html"
   ]
  },
  {
   "cell_type": "code",
   "execution_count": 3,
   "metadata": {},
   "outputs": [
    {
     "name": "stdout",
     "output_type": "stream",
     "text": [
      "9.921567416492215\n"
     ]
    }
   ],
   "source": [
    "myheight = 4\n",
    "momsheight = 5\n",
    "dadsheight = 6\n",
    "s = (myheight +momsheight+dadsheight)/2\n",
    "a= s*(s-myheight)*(s-momsheight)*(s-dadsheight)\n",
    "area = a**0.5\n",
    "print(area)"
   ]
  },
  {
   "cell_type": "markdown",
   "metadata": {},
   "source": [
    "Q5. Every email id has a username '@' symbol and name of the email service provider. For example, sridharkn@gmail.com is my email id - here sridharkn is the username, @ is the symbol, and gmail.com is the name of the service provider. You should take email ID from the user, then (a) Check if it is a valid email (b) Print only the username.\n",
    "Complete the code below.\n",
    "\n",
    "CLUE: How to check of valid email\n",
    "1. The id should have '@' symbol.\n",
    "2. There should be 2 parts - one left of '@' and one right of '@' - That is when you split split email-id based on @, you should get exactly 2 strings. If it is less than 2 or more than 2, then it is a wrong email id. PS: python split function return 'empty' string.\n",
    "3. The 2 parts should NOT be EMPTY. You can use the len function to check if the string is EMPTY or NOT.\n",
    "Do step by step, put prints to understand what you are doing."
   ]
  },
  {
   "cell_type": "code",
   "execution_count": 6,
   "metadata": {
    "scrolled": true
   },
   "outputs": [
    {
     "ename": "IndentationError",
     "evalue": "unindent does not match any outer indentation level (<tokenize>, line 6)",
     "output_type": "error",
     "traceback": [
      "\u001b[1;36m  File \u001b[1;32m\"<tokenize>\"\u001b[1;36m, line \u001b[1;32m6\u001b[0m\n\u001b[1;33m    if len(username)>0 and len(service_provider)>5:\u001b[0m\n\u001b[1;37m    ^\u001b[0m\n\u001b[1;31mIndentationError\u001b[0m\u001b[1;31m:\u001b[0m unindent does not match any outer indentation level\n"
     ]
    }
   ],
   "source": [
    "emailid = input('Please Enter your email ID')\n",
    "split_id = emailid.split(sep='@',maxsplit=2)\n",
    "if len of split_id ==0:\n",
    "     username=split_id[0]\n",
    "     service_provider=split_id[1]\n",
    "    if len(username)>0 and len(service_provider)>5:\n",
    "        print(\"username is \" + username)\n",
    "    else:\n",
    "        print(\"wrong email id,enter again\")\n",
    "else:\n",
    "    print(\"you are wrong\")\n",
    "    \n",
    "\n"
   ]
  },
  {
   "cell_type": "code",
   "execution_count": null,
   "metadata": {},
   "outputs": [],
   "source": []
  },
  {
   "cell_type": "code",
   "execution_count": null,
   "metadata": {},
   "outputs": [],
   "source": []
  }
 ],
 "metadata": {
  "kernelspec": {
   "display_name": "Python 3",
   "language": "python",
   "name": "python3"
  },
  "language_info": {
   "codemirror_mode": {
    "name": "ipython",
    "version": 3
   },
   "file_extension": ".py",
   "mimetype": "text/x-python",
   "name": "python",
   "nbconvert_exporter": "python",
   "pygments_lexer": "ipython3",
   "version": "3.7.6"
  }
 },
 "nbformat": 4,
 "nbformat_minor": 2
}
