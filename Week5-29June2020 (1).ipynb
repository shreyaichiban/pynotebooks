{
 "cells": [
  {
   "cell_type": "markdown",
   "metadata": {},
   "source": [
    "# Week5 - 29 June 2020"
   ]
  },
  {
   "cell_type": "markdown",
   "metadata": {},
   "source": [
    "Q1. Write a program to sort the list numbers in increasing order. Sorting means arranging in some order, increasing or decreasing. Complete the code below. DO NOT USE PYTHON's SORT FUNCTION.\n",
    "\n",
    "Clue1: First think how you swap the values of two variables. Imagine you have 2 numbers number1 and number2. Let number1=10 and number2=20. Now try swapping the values. That is after swapping, number1 should have 20 and number2 should have 10. This Simple Idea should be used.\n",
    "\n",
    "Clue2: You can use very simple approach. Start with the very first position, ensure that it has the least value. How you do this? (a) compare its value with 2nd, and if it is greater, just 'swap' it (b) compare again its value with 3rd postion, and it is greater, just swap it. Do the same thing (a) and (b) for the 2nd postion. Automatically 3rd position will be correct. So, you just have to SWAP only 3 times AT MOST.\n"
   ]
  },
  {
   "cell_type": "code",
   "execution_count": null,
   "metadata": {},
   "outputs": [],
   "source": [
    "numbers = [10, 5, 20]\n",
    "if numbers[0]< numbers[1]:\n",
    "    temp = numbers[0]\n",
    "    numbers[0]= numbers[1]\n",
    "    numbers[1]= temp\n",
    "if numbers[0] > numbers[2]:\n",
    "    temp = numbers[0]\n",
    "    numbers[0]= numbers[2]\n",
    "    numbers[2]= temp\n",
    "if numbers[1] > numbers[2]:\n",
    "    temp = numbers[1]\n",
    "    numbers[1]= numbers[2]\n",
    "    numbers[2]= temp\n",
    "print(numbers)\n",
    "    \n",
    "        "
   ]
  },
  {
   "cell_type": "markdown",
   "metadata": {},
   "source": [
    "Q2. Take a String input from the user. Count how many vowels are there in the string and print it. Complete the code below\n",
    "\n",
    "Clue: Use 'Count' Function that u did in previous assignment (assignment-3). Use it to check for each vowel and add the all the counts."
   ]
  },
  {
   "cell_type": "code",
   "execution_count": 1,
   "metadata": {},
   "outputs": [
    {
     "name": "stdout",
     "output_type": "stream",
     "text": [
      "shreya\n",
      "2\n"
     ]
    }
   ],
   "source": [
    "string = input()\n",
    "word= string.lower()\n",
    "vowels=['a','e','i','o','u']\n",
    "count=0\n",
    "for vowel in vowels:\n",
    "    count= count+string.count(vowel)\n",
    "print(count)"
   ]
  },
  {
   "cell_type": "markdown",
   "metadata": {},
   "source": [
    "Q3. Create a dictionary of codes for alphabets. The keys or names will be a, b, c, d, e ... z, and the values will be 1, 2, 3, 4 .... 26. Complete the code below."
   ]
  },
  {
   "cell_type": "code",
   "execution_count": 2,
   "metadata": {},
   "outputs": [
    {
     "ename": "SyntaxError",
     "evalue": "invalid syntax (<ipython-input-2-781a278ffc87>, line 1)",
     "output_type": "error",
     "traceback": [
      "\u001b[1;36m  File \u001b[1;32m\"<ipython-input-2-781a278ffc87>\"\u001b[1;36m, line \u001b[1;32m1\u001b[0m\n\u001b[1;33m    dict_of_alphabets = {'a':1,'b':2,'c':3,'d';4,'e':5,'f':6,'g':7,'h';8,'i':9,'j':10,'k':11,'l':12,'m':13,'n':14,'o':15,'p':16,'q':17,'r':18,'s':19,'t':20,'u':21,'v':22,'w':23,'x':24,'y':25, 'z':26}\u001b[0m\n\u001b[1;37m                                              ^\u001b[0m\n\u001b[1;31mSyntaxError\u001b[0m\u001b[1;31m:\u001b[0m invalid syntax\n"
     ]
    }
   ],
   "source": [
    "dict_of_alphabets = {'a':1,'b':2,'c':3,'d';4,'e':5,'f':6,'g':7,'h';8,'i':9,'j':10,'k':11,'l':12,'m':13,'n':14,'o':15,'p':16,'q':17,'r':18,'s':19,'t':20,'u':21,'v':22,'w':23,'x':24,'y':25,'z':26}\n",
    "print(dict_of_alphabets)"
   ]
  },
  {
   "cell_type": "markdown",
   "metadata": {},
   "source": [
    "Q4. Take name as input from the user, and create a number-code for that user. The code will be the Sum of the values of each and every letter of his name. Use the dictionary you created above for the values. For example if user inputs anna as name, then the code for anna is 1 + 14 + 14 + 1 = 30. 1 if for 'a' and 14 is for 'n'. Complete the code below."
   ]
  },
  {
   "cell_type": "markdown",
   "metadata": {},
   "source": [
    "CLUE: Use for loop to go letter by letter in the name, use the letter to get the number from the dictionary, and add those numbers."
   ]
  },
  {
   "cell_type": "code",
   "execution_count": 1,
   "metadata": {},
   "outputs": [
    {
     "name": "stdout",
     "output_type": "stream",
     "text": [
      "shreya \n"
     ]
    },
    {
     "ename": "NameError",
     "evalue": "name 'dict_of_alphabets' is not defined",
     "output_type": "error",
     "traceback": [
      "\u001b[1;31m---------------------------------------------------------------------------\u001b[0m",
      "\u001b[1;31mNameError\u001b[0m                                 Traceback (most recent call last)",
      "\u001b[1;32m<ipython-input-1-82d49f448599>\u001b[0m in \u001b[0;36m<module>\u001b[1;34m\u001b[0m\n\u001b[0;32m      3\u001b[0m \u001b[0mcode\u001b[0m \u001b[1;33m=\u001b[0m\u001b[1;36m0\u001b[0m\u001b[1;33m\u001b[0m\u001b[1;33m\u001b[0m\u001b[0m\n\u001b[0;32m      4\u001b[0m \u001b[1;32mfor\u001b[0m \u001b[0mletter\u001b[0m \u001b[1;32min\u001b[0m \u001b[0mname_lower\u001b[0m\u001b[1;33m:\u001b[0m\u001b[1;33m\u001b[0m\u001b[1;33m\u001b[0m\u001b[0m\n\u001b[1;32m----> 5\u001b[1;33m      \u001b[0mcode\u001b[0m\u001b[1;33m=\u001b[0m\u001b[0mcode\u001b[0m \u001b[1;33m+\u001b[0m \u001b[0mint\u001b[0m\u001b[1;33m(\u001b[0m\u001b[0mdict_of_alphabets\u001b[0m\u001b[1;33m[\u001b[0m\u001b[0mletter\u001b[0m\u001b[1;33m]\u001b[0m\u001b[1;33m)\u001b[0m\u001b[1;33m\u001b[0m\u001b[1;33m\u001b[0m\u001b[0m\n\u001b[0m\u001b[0;32m      6\u001b[0m \u001b[0mprint\u001b[0m\u001b[1;33m(\u001b[0m\u001b[0mcode\u001b[0m\u001b[1;33m)\u001b[0m\u001b[1;33m\u001b[0m\u001b[1;33m\u001b[0m\u001b[0m\n\u001b[0;32m      7\u001b[0m \u001b[1;33m\u001b[0m\u001b[0m\n",
      "\u001b[1;31mNameError\u001b[0m: name 'dict_of_alphabets' is not defined"
     ]
    }
   ],
   "source": [
    "\n",
    "name = input()\n",
    "name_lower=name.lower() \n",
    "code =0\n",
    "for letter in name_lower:\n",
    "     code=code + int(dict_of_alphabets[letter])\n",
    "print(code)\n",
    "    \n"
   ]
  },
  {
   "cell_type": "markdown",
   "metadata": {},
   "source": [
    "Q5. What is this program doing?"
   ]
  },
  {
   "cell_type": "code",
   "execution_count": 3,
   "metadata": {},
   "outputs": [
    {
     "name": "stdout",
     "output_type": "stream",
     "text": [
      "[20, 40, 60, 80, 100]\n",
      "20\n",
      "40\n",
      "60\n",
      "80\n",
      "100\n",
      "['Sahaana', 'Maithri', 'Saanvi', 'Shreya']\n",
      "Sahaana\n",
      "Maithri\n",
      "Saanvi\n",
      "Shreya\n"
     ]
    }
   ],
   "source": [
    "def func1(arg):\n",
    "    print(arg)\n",
    "    for i in arg:\n",
    "        print(i)\n",
    "\n",
    "list1 = [20, 40, 60, 80, 100]\n",
    "list2 = ['Sahaana', 'Maithri', 'Saanvi', 'Shreya']\n",
    "func1(list1)\n",
    "func1(list2)"
   ]
  },
  {
   "cell_type": "code",
   "execution_count": null,
   "metadata": {},
   "outputs": [],
   "source": [
    "#define and call"
   ]
  }
 ],
 "metadata": {
  "kernelspec": {
   "display_name": "Python 3",
   "language": "python",
   "name": "python3"
  },
  "language_info": {
   "codemirror_mode": {
    "name": "ipython",
    "version": 3
   },
   "file_extension": ".py",
   "mimetype": "text/x-python",
   "name": "python",
   "nbconvert_exporter": "python",
   "pygments_lexer": "ipython3",
   "version": "3.7.6"
  }
 },
 "nbformat": 4,
 "nbformat_minor": 2
}
