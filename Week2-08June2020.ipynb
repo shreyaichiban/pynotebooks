{
 "cells": [
  {
   "cell_type": "markdown",
   "metadata": {},
   "source": [
    "# Week-2 Assignment 08-June-2020\n",
    "Please complete this by 13-June-2020"
   ]
  },
  {
   "cell_type": "markdown",
   "metadata": {},
   "source": [
    "Q1. Print All Odd number between 1 to 100. The output should be like this 1, 3, 5, 7, ........ You can complete the below code."
   ]
  },
  {
   "cell_type": "code",
   "execution_count": 4,
   "metadata": {},
   "outputs": [
    {
     "name": "stdout",
     "output_type": "stream",
     "text": [
      "1 ,\n",
      "3 ,\n",
      "5 ,\n",
      "7 ,\n",
      "9 ,\n",
      "11 ,\n",
      "13 ,\n",
      "15 ,\n",
      "17 ,\n",
      "19 ,\n",
      "21 ,\n",
      "23 ,\n",
      "25 ,\n",
      "27 ,\n",
      "29 ,\n",
      "31 ,\n",
      "33 ,\n",
      "35 ,\n",
      "37 ,\n",
      "39 ,\n",
      "41 ,\n",
      "43 ,\n",
      "45 ,\n",
      "47 ,\n",
      "49 ,\n",
      "51 ,\n",
      "53 ,\n",
      "55 ,\n",
      "57 ,\n",
      "59 ,\n",
      "61 ,\n",
      "63 ,\n",
      "65 ,\n",
      "67 ,\n",
      "69 ,\n",
      "71 ,\n",
      "73 ,\n",
      "75 ,\n",
      "77 ,\n",
      "79 ,\n",
      "81 ,\n",
      "83 ,\n",
      "85 ,\n",
      "87 ,\n",
      "89 ,\n",
      "91 ,\n",
      "93 ,\n",
      "95 ,\n",
      "97 ,\n",
      "99 ,\n"
     ]
    }
   ],
   "source": [
    "for i in range(100):\n",
    "    # Check if it is ODD or it is NOT-EVEN\n",
    "    # Then print it\n",
    "    if i%2>0:\n",
    "        print(i,\",\")\n",
    "    "
   ]
  },
  {
   "cell_type": "markdown",
   "metadata": {},
   "source": [
    "Q2. From the given string, print only the words that DOES-NOT have an 'a' or 'e' in it. COmplete the given code."
   ]
  },
  {
   "cell_type": "code",
   "execution_count": 6,
   "metadata": {},
   "outputs": [
    {
     "name": "stdout",
     "output_type": "stream",
     "text": [
      "['Th', 'r', ' was onc', ' a woman who was v', 'ry, v', 'ry ch', '', 'rful, though sh', ' had littl', ' to mak', ' h', 'r so; for sh', ' was old, and poor, and lon', 'ly. Sh', ' liv', 'd in a littl', ' bit of a cottag', ' and ', 'arn', 'd a scant living by running ', 'rrands for h', 'r n', 'ighbours,g', 'tting a bit', ' h', 'r', ', a sup th', 'r', ', as r', 'ward for h', 'r s', 'rvic', 's. So sh', ' mad', ' shift to g', 't on, and always look', 'd as spry and ch', '', 'ry as if sh', ' had not a want in th', ' world. Now on', ' summ', 'r ', 'v', 'ning, as sh', ' was trotting, full of smil', 's as ', 'v', 'r, along th', ' high road to h', 'r hov', 'l, what should sh', ' s', '', ' but a big black pot lying in th', ' ditch! Goodn', 'ss m', '! sh', ' cri', 'd, that would b', ' just th', ' v', 'ry thing for m', ' if I only had som', 'thing to put in it! But I hav', 'n nott! Now who could hav', ' l', 'ft it in th', ' ditch? And sh', ' look', 'd about h', 'r ', 'xp', 'cting th', ' own', 'r would not b', ' far off; but sh', ' could s', '', ' nobody. Mayb', ' th', 'r', ' is a hol', ' in it, sh', ' w', 'nt on, and thats why it has b', '', 'n cast away. But it would do fin', ' to put a flow', 'r in for my window, so Ill just tak', ' it hom', ' with m', '. And with that sh', ' lift', 'd th', ' lid and look', 'd insid', '. M', 'rcy m', '! sh', ' cri', 'd, fair amaz', 'd. If it isnt full of gold pi', 'c', 's. H', 'r', 's luck! And so it was, brimful of gr', 'at gold coins. W', 'll, at first sh', ' simply stood stock-still, wond', 'ring if sh', ' was standing on h', 'r h', 'ad or h', 'r h', '', 'ls. Th', 'n sh', ' b', 'gan saying: Lawks! But I do f', '', 'l rich. I f', '', 'l awful rich! Aft', 'r sh', ' had said this many tim', 's, sh', ' b', 'gan to wond', 'r how sh', ' was to g', 't h', 'r tr', 'asur', ' hom', '. It was too h', 'avy for h', 'r to carry, and sh', ' could s', '', ' no b', 'tt', 'r way than to ti', ' th', ' ', 'nd of h', 'r shawl to it and drag it b', 'hind h', 'r lik', ' a go-cart. It will soon b', ' dark, sh', ' said to h', 'rs', 'lf as sh', ' trott', 'd along. So much th', ' b', 'tt', 'r! Th', ' n', 'ighbours will not s', '', ' what Im bringing hom', ', and I shall hav', ' all th', ' night to mys', 'lf, and b', ' abl', ' to think what Ill do! Mayhap Ill buy a grand hous', ' and just sit by th', ' fir', ' with a cup o t', 'a and do no work at all lik', ' a qu', '', 'n. Or mayb', ' Ill bury it at th', ' gard', 'n foot and just k', '', 'p a bit in th', ' old china t', 'apot on th', ' chimn', 'y-pi', 'c', '. Or mayb', '—Goody! Goody! I f', '', 'l that grand I dont know mys', 'lf. By this tim', ' sh', ' was a bit tir', 'd of dragging such a h', 'avy w', 'ight, and, stopping to r', 'st a whil', ', turn', 'd to look at h', 'r tr', 'asur', '. And lo! it wasnt a pot of gold at all! It was nothing but a lump of silv', 'r.Sh', ' star', 'd at it, and rubb', 'd h', 'r ', 'y', 's, and star', 'd at it again.W', 'll! I n', 'v', 'r! sh', ' said at last. And m', ' thinking it was a pot of gold! I must hav', ' b', '', 'n dr', 'aming. But this is luck! Silv', 'r is far l', 'ss troubl', '—', 'asi', 'r to mind, and not so ', 'asy stol', 'n. Th', 'm gold pi', 'c', 's would hav', ' b', '', 'n th', ' d', 'ath o m', ', and with this gr', 'at lump of silv', 'r.So sh', ' w', 'nt off again planning what sh', ' would do, and f', '', 'ling as rich as rich, until b', 'coming a bit tir', 'd again sh', ' stopp', 'd to r', 'st and gav', ' a look round to s', '', ' if h', 'r tr', 'asur', ' was saf', '; and sh', ' saw nothing but a gr', 'at lump of iron! W', 'll! I n', 'v', 'r! says sh', ' again. And I mistaking it for silv', 'r! I must hav', ' b', '', 'n dr', 'aming. But this is luck! Its r', 'al conv', 'ni', 'nt. I can g', 't p', 'nny pi', 'c', 's for old iron, and p', 'nny pi', 'c', 's ar', ' a d', 'al handi', 'r for m', ' than your gold and silv', 'r. Why! I should n', 'v', 'r hav', ' sl', 'pt a wink for f', 'ar of b', 'ing robb', 'd. But a p', 'nny pi', 'c', ' com', 's in us', 'ful, and I shall s', 'll that iron for a lot and b', ' r', 'al rich—rolling rich. So on sh', ' trott', 'd full of plans as to how sh', ' would sp', 'nd h', 'r p', 'nny pi', 'c', 's, till onc', ' mor', ' sh', ' stopp', 'd to r', 'st and look', 'd round to s', '', ' h', 'r tr', 'asur', ' was saf', '. And this tim', ' sh', ' saw nothing but a big ston', '. W', 'll! I n', 'v', 'r! sh', ' cri', 'd, full of smil', 's. And to think I mistook it for iron. I must hav', ' b', '', 'n dr', 'aming. But h', 'r', 's luck ind', '', 'd, and m', ' wanting a ston', ' t', 'rribl', ' bad to stick op', 'n th', ' gat', '. Eh my! but its a chang', ' for th', ' b', 'tt', 'r! Its a fin', ' thing to hav', ' good luck. So, all in a hurry to s', '', ' how th', ' ston', ' would k', '', 'p th', ' gat', ' op', 'n, sh', ' trott', 'd off down th', ' hill till sh', ' cam', ' to h', 'r own cottag', '. Sh', ' unlatch', 'd th', ' gat', ' and th', 'n turn', 'd to unfast', 'n h', 'r shawl from th', ' ston', ' which lay on th', ' path b', 'hind h', 'r. Ay', '! It was a ston', ' sur', ' ', 'nough. Th', 'r', ' was pl', 'nty light to s', '', ' it lying th', 'r', ', douc', ' and p', 'ac', 'abl', ' as a ston', ' should. So sh', ' b', 'nt ov', 'r it to unfast', 'n th', ' shawl ', 'nd, wh', 'n—Oh my! All of a sudd', 'n it gav', ' a jump, a squ', 'al, and in on', ' mom', 'nt was as big as a haystack. Th', 'n it l', 't down four gr', 'at lanky l', 'gs and thr', 'w out two long ', 'ars, nourish', 'd a gr', 'at long tail and romp', 'd off, kicking and squ', 'aling and whinnying and laughing lik', ' a naughty, mischi', 'vous boy! Th', ' old woman star', 'd aft', 'r it till it was fairly out of sight, th', 'n sh', ' burst out laughing too. W', 'll! sh', ' chuckl', 'd, I am in luck! Quit', ' th', ' lucki', 'st body h', 'r', 'abouts. Fancy my s', '', 'ing th', ' Bog', 'y-B', 'ast all to mys', 'lf; and making mys', 'lf so fr', '', ' with it too! My goodn', 'ss! I do f', '', 'l that uplift', 'd—that GRAND!— So sh', ' w', 'nt into h', 'r cottag', ' and sp', 'nt th', ' ', 'v', 'ning chuckling ov', 'r h', 'r good luck.']\n"
     ]
    }
   ],
   "source": [
    "big_string = \"There was once a woman who was very, very cheerful, though she had little to make her so; for she was old, \\\n",
    "and poor, and lonely. She lived in a little bit of a cottage and earned a scant living by running errands for her neighbours,\\\n",
    "getting a bite here, a sup there, as reward for her services. So she made shift to get on, and always looked as spry and \\\n",
    "cheery as if she had not a want in the world. Now one summer evening, as she was trotting, full of smiles as ever, along \\\n",
    "the high road to her hovel, what should she see but a big black pot lying in the ditch! \\\n",
    "Goodness me! she cried, that would be just the very thing for me if I only had something to put in it! But I haven nott! \\\n",
    "Now who could have left it in the ditch? \\\n",
    "And she looked about her expecting the owner would not be far off; but she could see nobody. \\\n",
    "Maybe there is a hole in it, she went on, and thats why it has been cast away. But it would do fine to put a flower \\\n",
    "in for my window, so Ill just take it home with me. \\\n",
    "And with that she lifted the lid and looked inside. Mercy me! she cried, fair amazed. If it isnt full of gold pieces. \\\n",
    "Heres luck! And so it was, brimful of great gold coins. Well, at first she simply stood stock-still, wondering if she was \\\n",
    "standing on her head or her heels. Then she began saying: Lawks! But I do feel rich. I feel awful rich! \\\n",
    "After she had said this many times, she began to wonder how she was to get her treasure home. \\\n",
    "It was too heavy for her to carry, and she could see no better way than to tie the end of her shawl to it \\\n",
    "and drag it behind her like a go-cart. It will soon be dark, she said to herself as she trotted along. \\\n",
    "So much the better! The neighbours will not see what Im bringing home, and I shall have all the night to myself, \\\n",
    "and be able to think what Ill do! Mayhap Ill buy a grand house and just sit by the fire with a cup o tea and do \\\n",
    "no work at all like a queen. Or maybe Ill bury it at the garden foot and just keep a bit in the old china \\\n",
    "teapot on the chimney-piece. Or maybe—Goody! Goody! I feel that grand I dont know myself. \\\n",
    "By this time she was a bit tired of dragging such a heavy weight, and, stopping to rest a while, \\\n",
    "turned to look at her treasure. And lo! it wasnt a pot of gold at all! It was nothing but a lump of silver.\\\n",
    "She stared at it, and rubbed her eyes, and stared at it again.\\\n",
    "Well! I never! she said at last. And me thinking it was a pot of gold! I must have been dreaming. \\\n",
    "But this is luck! Silver is far less trouble—easier to mind, and not so easy stolen. Them gold pieces \\\n",
    "would have been the death o me, and with this great lump of silver.\\\n",
    "So she went off again planning what she would do, and feeling as rich as rich, until becoming a bit \\\n",
    "tired again she stopped to rest and gave a look round to see if her treasure was safe; and she saw nothing but \\\n",
    "a great lump of iron! Well! I never! says she again. And I mistaking it for silver! I must have been dreaming. \\\n",
    "But this is luck! Its real convenient. I can get penny pieces for old iron, and penny pieces are a deal handier \\\n",
    "for me than your gold and silver. Why! I should never have slept a wink for fear of being robbed. But a penny \\\n",
    "piece comes in useful, and I shall sell that iron for a lot and be real rich—rolling rich. \\\n",
    "So on she trotted full of plans as to how she would spend her penny pieces, till once more she stopped to rest \\\n",
    "and looked round to see her treasure was safe. And this time she saw nothing but a big stone. \\\n",
    "Well! I never! she cried, full of smiles. And to think I mistook it for iron. I must have been dreaming. \\\n",
    "But heres luck indeed, and me wanting a stone terrible bad to stick open the gate. Eh my! but its a change for \\\n",
    "the better! Its a fine thing to have good luck. So, all in a hurry to see how the stone would keep the gate open, \\\n",
    "she trotted off down the hill till she came to her own cottage. She unlatched the gate and then turned to unfasten \\\n",
    "her shawl from the stone which lay on the path behind her. Aye! It was a stone sure enough. There was plenty light \\\n",
    "to see it lying there, douce and peaceable as a stone should. \\\n",
    "So she bent over it to unfasten the shawl end, when—Oh my! All of a sudden it gave a jump, a squeal, and in one \\\n",
    "moment was as big as a haystack. Then it let down four great lanky legs and threw out two long ears, nourished a \\\n",
    "great long tail and romped off, kicking and squealing and whinnying and laughing like a naughty, mischievous boy! \\\n",
    "The old woman stared after it till it was fairly out of sight, then she burst out laughing too. \\\n",
    "Well! she chuckled, I am in luck! Quite the luckiest body hereabouts. Fancy my seeing the Bogey-Beast all to myself; \\\n",
    "and making myself so free with it too! My goodness! I do feel that uplifted—that GRAND!— \\\n",
    "So she went into her cottage and spent the evening chuckling over her good luck.\"\n",
    "words_of_big_string = big_string.split('a' and 'e')\n",
    "print(words_of_big_string)\n",
    "# Now you have the words "
   ]
  },
  {
   "cell_type": "markdown",
   "metadata": {},
   "source": [
    "Q3. From the above big_string see how many times the word old is used?. Hints given"
   ]
  },
  {
   "cell_type": "code",
   "execution_count": 9,
   "metadata": {},
   "outputs": [
    {
     "name": "stdout",
     "output_type": "stream",
     "text": [
      "10\n"
     ]
    }
   ],
   "source": [
    "# Use count() function. string_name.count(substring). You know the string_name you know the substring (old)\\\n",
    "count_of_old = big_string.count(\"old\")\n",
    "print(count_of_old)"
   ]
  },
  {
   "cell_type": "raw",
   "metadata": {},
   "source": [
    "Q4. Create a dictionary to hold The information of a book. The information it should have are 'title', 'author' and 'prince_in_rs'. Add 3 books and print the dictionary. COmplete the code below."
   ]
  },
  {
   "cell_type": "code",
   "execution_count": 23,
   "metadata": {},
   "outputs": [
    {
     "name": "stdout",
     "output_type": "stream",
     "text": [
      "{'title: Harry Potter,The Penderwicks; Paper Townsauthor: J.K Rowling; Jeanne Birdsall; John Greenprice_in_rs: 700;800;900'}\n"
     ]
    }
   ],
   "source": [
    "mydict={}\n",
    "dict={\n",
    "     \"title: Harry Potter,The Penderwicks; Paper Towns\"\n",
    "    \"author: J.K Rowling; Jeanne Birdsall; John Green\"\n",
    "    \"price_in_rs: 700;800;900\" \n",
    "}\n",
    "print(dict)"
   ]
  },
  {
   "cell_type": "markdown",
   "metadata": {},
   "source": [
    "Q5. Write Step-by-step procedure to check if a given string is a palindrome. You can write any number of steps. COmplete the markdown below."
   ]
  },
  {
   "cell_type": "markdown",
   "metadata": {},
   "source": [
    "## Steps to find if a string is a palindrome. \n",
    "Step-1: Let the name of the string be amIpali\n",
    "Step-2:\n",
    "Step-3:\n",
    "Step-4:\n",
    "Step-5:"
   ]
  }
 ],
 "metadata": {
  "kernelspec": {
   "display_name": "Python 3",
   "language": "python",
   "name": "python3"
  },
  "language_info": {
   "codemirror_mode": {
    "name": "ipython",
    "version": 3
   },
   "file_extension": ".py",
   "mimetype": "text/x-python",
   "name": "python",
   "nbconvert_exporter": "python",
   "pygments_lexer": "ipython3",
   "version": "3.7.6"
  }
 },
 "nbformat": 4,
 "nbformat_minor": 2
}
