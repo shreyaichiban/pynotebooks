{
 "cells": [
  {
   "cell_type": "markdown",
   "metadata": {},
   "source": [
    "# Week8 - 20 July 2020"
   ]
  },
  {
   "cell_type": "markdown",
   "metadata": {},
   "source": [
    "Q1. Have you ever thought about: If you toss a coin 100 times, how many times 'Heads' will comeup and how many times 'Tails' will come up? Lets us write a program to know this. Python has a very powerful library called 'random'. Below I'm providing an example code to randomly print an vowel. If you run the below code multiple times you will see different vowel each time.\n",
    "That is, random.choice, everytime you run, will pick one from the list of vowels 'randomly'."
   ]
  },
  {
   "cell_type": "code",
   "execution_count": 3,
   "metadata": {},
   "outputs": [
    {
     "name": "stdout",
     "output_type": "stream",
     "text": [
      "e\n"
     ]
    }
   ],
   "source": [
    "import random\n",
    "vowel = random.choice(['a', 'e', 'i', 'o', 'u'])\n",
    "print(vowel)"
   ]
  },
  {
   "cell_type": "markdown",
   "metadata": {},
   "source": [
    "Q1-Continued: Use the random.choice to randomly pick 'heads' or 'tails'. Create a loop to run choosing 100 times - everytime it picks heads, increment the head-count, and everytime it picks tails, increment the tail-count. Print the final counter values. complete the code below."
   ]
  },
  {
   "cell_type": "code",
   "execution_count": 27,
   "metadata": {},
   "outputs": [
    {
     "name": "stdout",
     "output_type": "stream",
     "text": [
      "Head count is  4975\n",
      "Tail count is  5025\n"
     ]
    }
   ],
   "source": [
    "head_count = 0\n",
    "tail_count = 0\n",
    "count = 0\n",
    "import random\n",
    "for count in range(1,10001) :\n",
    "    pick = random.choice(['heads', 'tails'])\n",
    "    if pick == 'heads':\n",
    "        head_count = head_count + 1\n",
    "    else:\n",
    "        tail_count = tail_count + 1\n",
    "    count = count+1\n",
    "print('Head count is ', head_count)\n",
    "print('Tail count is ' ,tail_count)\n",
    "\n",
    "\n",
    "\n",
    "\n"
   ]
  },
  {
   "cell_type": "markdown",
   "metadata": {},
   "source": [
    "Q2. You know that Dictionary has Key and Value. Below you have dictionary. User has 2 questions below, print the answers please:"
   ]
  },
  {
   "cell_type": "code",
   "execution_count": 32,
   "metadata": {},
   "outputs": [
    {
     "name": "stdout",
     "output_type": "stream",
     "text": [
      "Question1: What all cities/states of India are represented ?\n",
      "Bangalore\n",
      "Chennai\n",
      "Rajasthan\n",
      "Kolkata\n",
      "Mumbai\n",
      "Punjab\n",
      "Hyderabad\n",
      "Delhi\n",
      "Question2: What are the names of the teams of these cities/states ?\n",
      "Royal Challengers\n",
      "Super Kings\n",
      "Royals\n",
      "Knight Riders\n",
      "Indians\n",
      "Kings XI\n",
      "Sunrisers\n",
      "Daredevils\n"
     ]
    }
   ],
   "source": [
    "ipl_teams = {'Bangalore': 'Royal Challengers', 'Chennai': 'Super Kings', 'Rajasthan': 'Royals', 'Kolkata': 'Knight Riders',\n",
    "             'Mumbai': 'Indians', 'Punjab': 'Kings XI', 'Hyderabad': 'Sunrisers', 'Delhi': 'Daredevils'}\n",
    "\n",
    "print(\"Question1: What all cities/states of India are represented ?\")\n",
    "for city in ipl_teams:\n",
    "    print(city)\n",
    "\n",
    "\n",
    "\n",
    "print(\"Question2: What are the names of the teams of these cities/states ?\")\n",
    "for city in ipl_teams:\n",
    "    print(ipl_teams[city])\n",
    "\n"
   ]
  },
  {
   "cell_type": "markdown",
   "metadata": {},
   "source": [
    "Q3. Can you tell how many words and characters are there in this song?"
   ]
  },
  {
   "cell_type": "code",
   "execution_count": 30,
   "metadata": {
    "scrolled": true
   },
   "outputs": [
    {
     "name": "stdout",
     "output_type": "stream",
     "text": [
      "111\n",
      "560\n"
     ]
    }
   ],
   "source": [
    "song = \"Oh, they tryna shoot down angels \\\n",
    "They tryna pull their wings off \\\n",
    "So, they can't fly \\\n",
    "And, oh, but she's so brave, though \\\n",
    "Just like a tornado \\\n",
    "She's taking us by storm \\\n",
    "You can't stop the girl from going \\\n",
    "You can't stop the world from knowing \\\n",
    "The truth will set you free, oh \\\n",
    "You can't stop the girl \\\n",
    "They tryna take our voices \\\n",
    "They tryna make our choices \\\n",
    "So we scream loud, loud, loud \\\n",
    "And, oh, I know you feel the lightning \\\n",
    "And it's so exciting \\\n",
    "So, here we come \\\n",
    "You can't stop the girl from going \\\n",
    "You can't stop the world from knowing \\\n",
    "The truth will set you free, oh\"\n",
    "tchar=0\n",
    "words=song.split()\n",
    "count=len(song.split())\n",
    "print(count)\n",
    "char=len(song)\n",
    "print(char)"
   ]
  },
  {
   "cell_type": "markdown",
   "metadata": {},
   "source": [
    "Q4. Please write a program to generate **ALL** sentences where subject is in [\"I\", \"You\"] and verb is in [\"Play\", \"Love\"] and the object is in [\"Hockey\",\"Football\"]. In English, typically the order is - Subject Verb Object. Ex: I love Football. Complete the code below."
   ]
  },
  {
   "cell_type": "code",
   "execution_count": 31,
   "metadata": {},
   "outputs": [
    {
     "name": "stdout",
     "output_type": "stream",
     "text": [
      "I Play Hockey\n",
      "I Play Football\n",
      "I Love Hockey\n",
      "I Love Football\n",
      "You Play Hockey\n",
      "You Play Football\n",
      "You Love Hockey\n",
      "You Love Football\n"
     ]
    }
   ],
   "source": [
    "subjects=[\"I\", \"You\"]\n",
    "verbs=[\"Play\", \"Love\"]\n",
    "objects=[\"Hockey\",\"Football\"]\n",
    "for i in subjects:\n",
    "    for x in verbs:\n",
    "        for y in objects:\n",
    "            print(i +\" \"+ x + \" \" + y)"
   ]
  },
  {
   "cell_type": "code",
   "execution_count": null,
   "metadata": {},
   "outputs": [],
   "source": [
    "Q5. What is this program doing?"
   ]
  },
  {
   "cell_type": "code",
   "execution_count": 1,
   "metadata": {},
   "outputs": [
    {
     "name": "stdout",
     "output_type": "stream",
     "text": [
      "[12, 24, 35, 88, 120, 155, 5, 6, 77, 45, 22, 2, 7, 9, 11, 17, 222, 34, 67, 55, 33, 98]\n"
     ]
    }
   ],
   "source": [
    "def whatamIdoing( li ):\n",
    "    newli=[]\n",
    "    sli = []\n",
    "    for item in li:\n",
    "        if item not in sli:\n",
    "            sli.append( item )\n",
    "            newli.append(item)\n",
    "    return newli\n",
    "\n",
    "li=[12,24,35,24,88,120,155,88,120,155,5,6,77,45,22,12,24,2,5,7,9,11,17,222,34,67,55,33,12,98]\n",
    "print(whatamIdoing(li))"
   ]
  },
  {
   "cell_type": "markdown",
   "metadata": {},
   "source": []
  }
 ],
 "metadata": {
  "kernelspec": {
   "display_name": "Python 3",
   "language": "python",
   "name": "python3"
  },
  "language_info": {
   "codemirror_mode": {
    "name": "ipython",
    "version": 3
   },
   "file_extension": ".py",
   "mimetype": "text/x-python",
   "name": "python",
   "nbconvert_exporter": "python",
   "pygments_lexer": "ipython3",
   "version": "3.7.6"
  }
 },
 "nbformat": 4,
 "nbformat_minor": 2
}
