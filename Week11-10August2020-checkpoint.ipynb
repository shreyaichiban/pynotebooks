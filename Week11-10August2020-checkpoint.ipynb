{
 "cells": [
  {
   "cell_type": "markdown",
   "metadata": {},
   "source": [
    "# Week11 - 10 August 2020.\n",
    "## Let's Play Cards."
   ]
  },
  {
   "cell_type": "markdown",
   "metadata": {},
   "source": [
    "Q1. Create a List, containing all the cards of 54-cards \"playing-card\" deck. Tip: Create a list of strings, each string will be 2 or 3 characters. First or first-two character(s) will be the number 1 to 13, where as the second/third will be the shape-code. For Example 3-Spade will be: '3S', whereas 10-Diamond will be: '10D'"
   ]
  },
  {
   "cell_type": "code",
   "execution_count": null,
   "metadata": {},
   "outputs": [],
   "source": [
    "deck=['AH','2H','3H','4H','5H','6H','7H','8H','9H',\n",
    "      '10H','JH','QH','KH','AD','2D','3D','4D','5D','6D','7D','8D','9D',\n",
    "      '10D','JD','QD','KD','AC','2C','3C','4C','5C','6C','7C','8C','9C',\n",
    "      '10C','JC','QC','KC','AS','2S','3S','4S','5S','6S','7S','8S','9S',\n",
    "      '10S','JS','QS','KS','1J','2J']"
   ]
  },
  {
   "cell_type": "markdown",
   "metadata": {},
   "source": [
    "Q2. Use the List you created in Q1. Draw 26 cards from this list using the random.choose function. The drawn cards should be put alternatively to 2 lists called player1_cards and player2_cards. This will be similar to how you distribute 13 cards each to two players in a card-game. We are using random function to capture the 'shuffling' we do before distributing. \n",
    "NOTE: Once you draw a card from the list, that card should be removed before you call random.choose again."
   ]
  },
  {
   "cell_type": "code",
   "execution_count": 1,
   "metadata": {},
   "outputs": [
    {
     "name": "stdout",
     "output_type": "stream",
     "text": [
      "first player's cards: ['JD', '6D', '2D', '5H', '10C', 'KC', '8H', '5S', 'QD', 'AH', '6C', '5C', '8S', '1J', 'AC', '10H', '3D', '9C', 'JH', '9D', 'KD', '7D', '3H', '8C', 'JC', '10D', '9S']\n",
      "second player's cards: ['AD', '7C', 'KH', 'KS', '5D', '4D', '8D', '6H', 'AS', '4C', '2H', '6S', 'JS', '7S', '9H', '2S', '4S', '2J', '3C', 'QC', 'QS', 'QH', '2C', '7H', '3S', '4H', '10S']\n"
     ]
    }
   ],
   "source": [
    "import random\n",
    "player1_cards=[]\n",
    "player2_cards=[]\n",
    "count = 0\n",
    "deck=['AH','2H','3H','4H','5H','6H','7H','8H','9H',\n",
    "      '10H','JH','QH','KH','AD','2D','3D','4D','5D','6D','7D','8D','9D',\n",
    "      '10D','JD','QD','KD','AC','2C','3C','4C','5C','6C','7C','8C','9C',\n",
    "      '10C','JC','QC','KC','AS','2S','3S','4S','5S','6S','7S','8S','9S',\n",
    "      '10S','JS','QS','KS','1J','2J']\n",
    "for count in range (0,27):\n",
    "    i= random.choice(deck)\n",
    "    player1_cards.append(i)\n",
    "    deck.remove(i)\n",
    "    e=random.choice(deck)\n",
    "    player2_cards.append(e)\n",
    "    deck.remove(e)\n",
    "    count=count+1\n",
    "print(\"first player's cards:\",  player1_cards)\n",
    "print(\"second player's cards:\", player2_cards)"
   ]
  },
  {
   "cell_type": "markdown",
   "metadata": {},
   "source": [
    "Q3. You have list of strings. Each string has 2 characters (ex: ['1A', '4D']). First characer is the number second-character is a Alphabet. Out of this list, create a list of \"only Numbers\" and \"only-Shapes\""
   ]
  },
  {
   "cell_type": "code",
   "execution_count": 71,
   "metadata": {},
   "outputs": [
    {
     "name": "stdout",
     "output_type": "stream",
     "text": [
      "['6', '9', '12', '7', '7', '2', '11', '10', '7', '12', '10', '4', '9']\n",
      "['D', 'S', 'C', 'H', 'C', 'D', 'H', 'S', 'S', 'H', 'H', 'D', 'C']\n"
     ]
    }
   ],
   "source": [
    "myhand=['6D', '9S', '12C', '7H', '7C', '2D', '11H', '10S', '7S', '12H', '10H', '4D', '9C']\n",
    "nums=[]\n",
    "shapes=[]\n",
    "for i in myhand:\n",
    "    l = split(i)\n",
    "    if len(l)>2:\n",
    "        num=l[0]+l[1]\n",
    "        nums.append(num)\n",
    "        shapes.append(l[2])\n",
    "    else:\n",
    "        nums.append(l[0])\n",
    "        shapes.append(l[1])\n",
    "print(nums)\n",
    "print(shapes)"
   ]
  },
  {
   "cell_type": "markdown",
   "metadata": {},
   "source": [
    "Q4. You have list of strings. Each string has 2 characters (ex: ['1A', '4D']). First characer is the number second-character is a Alphabet. Out of this list, create a dictionary that has Multiple lists with each list containing the strings having same character. If the original list is ['1A', '4D', '5A', '2D'] the output sill be {'A': ['1A', '5A'], 'D':['4D', '2D']}"
   ]
  },
  {
   "cell_type": "code",
   "execution_count": null,
   "metadata": {},
   "outputs": [],
   "source": [
    "myhand=[\"6D\", \"9S\", \"12C\", \"7H\", \"7C\", \"2D\", \"11H\", \"10S\", \"7S\", \"12H\", \"10H\", \"4D\", \"9C\"]\n",
    "collection_shapes={'S':['9S','10S','7S'], 'H':['11H','12H','7H','10H'], 'D':['2D,''6D','4D'], 'C':['9C','12C','7C']}\n"
   ]
  },
  {
   "cell_type": "markdown",
   "metadata": {},
   "source": [
    "Q5. You have list of strings. Each string has 2 characters (ex: ['1A', '4D']). First characer is the number second-character is a Alphabet. Out of this list, create a dictionary that has Multiple lists with each list containing the strings having same character. If the original list is ['1A', '1D', '5A', '2D'] the output sill be {'1': ['1A', '1D], '5': ['5A'], '2': ['2D']}"
   ]
  },
  {
   "cell_type": "code",
   "execution_count": null,
   "metadata": {},
   "outputs": [],
   "source": [
    "myhand=[\"6D\", \"9S\", \"12C\", \"7H\", \"7C\", \"2D\", \"11H\", \"10S\", \"7S\", \"12H\", \"10H\", \"4D\", \"9C\"]\n",
    "collection_numbers={\"6\":[\"6D\",\"2D\",\"4D\"],\"S\":[\"9S\",\"10S\",\"7S\"],\"C\":[\"12C\",\"7C\",\"9C\"],\"H\":[\"7H\",\"10H\",\"11H\",\"12H\"] }"
   ]
  },
  {
   "cell_type": "markdown",
   "metadata": {},
   "source": [
    "Q6. If you have list of numbers, you should break the list into small lists of 3 numbers like this.\n",
    "Original list = [a, b, c, d, e, f, g, h, i, j]\n",
    "small lists = [a, b, c], [b, c, d], [c, d, e], [d, e, f], [e, f,g], [f, g, h], [g, h, i], [h, i, j].\n",
    "Complete the code below."
   ]
  },
  {
   "cell_type": "code",
   "execution_count": 25,
   "metadata": {},
   "outputs": [
    {
     "name": "stdout",
     "output_type": "stream",
     "text": [
      "[1, 2, 3]\n",
      "[2, 3, 4]\n",
      "[3, 4, 5]\n",
      "[4, 5, 6]\n",
      "[5, 6, 7]\n",
      "[6, 7, 8]\n",
      "[7, 8, 9]\n",
      "[8, 9, 10]\n",
      "[9, 10, 11]\n",
      "[10, 11, 12]\n",
      "[11, 12, 13]\n",
      "[12, 13, 14]\n",
      "[13, 14, 23]\n",
      "[14, 23, 25]\n",
      "[23, 25, 51]\n"
     ]
    }
   ],
   "source": [
    "numbers=[1 , 25 , 3 , 10 , 12 , 4 , 9 , 2 , 8 , 6 , 14 , 5 , 11 , 7 , 13 , 51 , 23]\n",
    "numbers.sort()\n",
    "for i in range(0,15):\n",
    "    a=slice(i,i+3,1)\n",
    "    print(numbers[a])\n",
    "    \n",
    "    \n",
    "    \n",
    "      "
   ]
  },
  {
   "cell_type": "markdown",
   "metadata": {},
   "source": [
    "Q7. Write a simple helper, who take a list of 3 sorted numbers, and check if it is a sequence or not. FOr example, if the list is [3, 4, 5] it should return true. If the list is [4, 7, 8], it should return false."
   ]
  },
  {
   "cell_type": "code",
   "execution_count": 24,
   "metadata": {},
   "outputs": [
    {
     "data": {
      "text/plain": [
       "True"
      ]
     },
     "execution_count": 24,
     "metadata": {},
     "output_type": "execute_result"
    }
   ],
   "source": [
    "def is_it_seq(x):\n",
    "    n1=seq[0]\n",
    "    n2=seq[1] \n",
    "    n3=seq[2]\n",
    "    if n2==n1+1 and n3== n2+1:\n",
    "        return True\n",
    "    else:\n",
    "        return False\n",
    "#to test\n",
    "seq=[4, 5, 6]\n",
    "is_it_seq(seq)"
   ]
  },
  {
   "cell_type": "markdown",
   "metadata": {},
   "source": [
    "Q8. Write a helper, who takes of list of numbers and tells whether there is a 3-number sequence in that list? It should return TRUE (if sequence exists) or FALSE (if no sequence). For example, if the list is [1, 4, 5, 9, 8, 6] - It should return TRUE. Complete the code below. TIP: Just combine Q6 and Q7."
   ]
  },
  {
   "cell_type": "code",
   "execution_count": 80,
   "metadata": {},
   "outputs": [
    {
     "data": {
      "text/plain": [
       "True"
      ]
     },
     "execution_count": 80,
     "metadata": {},
     "output_type": "execute_result"
    }
   ],
   "source": [
    "def is_it_three_seq(seq):\n",
    "    # Your program here\n",
    "    for i in range(0,8):\n",
    "        a=slice(i,i+3,1)\n",
    "        l=numbers[a]\n",
    "        n1=l[0]\n",
    "        n2=l[1] \n",
    "        n3=l[2]\n",
    "        if n2==n1+1 and n3== n2+1:\n",
    "            return True\n",
    "        else:\n",
    "            return False\n",
    "    \n",
    "# To Test the helper\n",
    "is_it_three_seq([4, 8, 9, 11, 20 , 21 , 22, 31, 45])\n",
    "    "
   ]
  },
  {
   "cell_type": "markdown",
   "metadata": {},
   "source": [
    "Q9. Write a helper, who takes a list of strings. Each string has 2 characters (ex: ['1A', '4D']). First characer is the number second-character is a Alphabet. The helper should first create a list of number from that list, then check if that number has a sequence. If yes, it should return True.\n",
    "Tip: Combine Q3 and Q8. Complete the code below."
   ]
  },
  {
   "cell_type": "code",
   "execution_count": 85,
   "metadata": {},
   "outputs": [
    {
     "name": "stdout",
     "output_type": "stream",
     "text": [
      "[6, 9, 12, 7, 7, 2, 11, 10, 7, 12, 10, 4, 9]\n",
      "[2, 4, 6, 7, 7, 7, 9, 9, 10, 10, 11, 12, 12]\n"
     ]
    },
    {
     "data": {
      "text/plain": [
       "False"
      ]
     },
     "execution_count": 85,
     "metadata": {},
     "output_type": "execute_result"
    }
   ],
   "source": [
    "def is_it_rummy(x):\n",
    "    nums=[]\n",
    "    for i in x:\n",
    "        l = split(i)\n",
    "        if len(l)>2:\n",
    "            num=int(l[0]+l[1])\n",
    "            nums.append(num)\n",
    "        else:\n",
    "            nums.append(int(l[0]))\n",
    "    print(nums)\n",
    "    nums.sort()\n",
    "    print(nums)\n",
    "    for i in range(0,20):\n",
    "        a=slice(i,i+3,)\n",
    "        l1=nums[a]\n",
    "        n1=l1[0]\n",
    "        n2=l1[1] \n",
    "        n3=l1[2]\n",
    "        if n2== (n1+1) and n3== (n2+1):\n",
    "            return True\n",
    "        else:\n",
    "            return False\n",
    "    \n",
    "\n",
    "is_it_rummy( ['6D', '9S', '12C', '7H', '7C', '2D', '11H', '10S', '7S', '12H', '10H', '4D', '9C'])\n",
    "    "
   ]
  },
  {
   "cell_type": "markdown",
   "metadata": {},
   "source": [
    "Reference Code."
   ]
  },
  {
   "cell_type": "code",
   "execution_count": 21,
   "metadata": {},
   "outputs": [
    {
     "data": {
      "text/plain": [
       "True"
      ]
     },
     "execution_count": 21,
     "metadata": {},
     "output_type": "execute_result"
    }
   ],
   "source": [
    "def check_dup(clist):\n",
    "    if len(list) == len(set(list)):\n",
    "        return False\n",
    "    else:\n",
    "        return True\n",
    "\n",
    "list = [\"6D\", \"6D\", \"12C\", \"7H\", \"7C\", \"2D\", \"11H\", \"10S\", \"7H\", \"12H\", \"10H\", \"4D\", \"9C\"]\n",
    "check_dup(list)"
   ]
  },
  {
   "cell_type": "markdown",
   "metadata": {},
   "source": [
    "Q10. Write a helper, who takes the list of strings, and tell if it has at least 3 strings that has: same number, but different character."
   ]
  },
  {
   "cell_type": "code",
   "execution_count": null,
   "metadata": {},
   "outputs": [],
   "source": [
    "def is_it_three_shapes(cards):\n",
    "    # First create a collection based on numbers (see above)\n",
    "    collection_numbers={\"D\":[\"6D\",\"2D\",\"4D\"],\"S\":[\"9S\",\"10S\",\"7S\"],\"C\":[\"12C\",\"7C\",\"9C\"],\"H\":[\"7H\",\"10H\",\"11H\",\"12H\"] }       \n",
    "    print(collection_numbers)\n",
    "    # Use that collection based on numbers, go through each and every list, \n",
    "    # if its length of the list is greater than 3 and it has no duplicates, that means it has a set.\n",
    "    # Use the code above for duplicate checking.\n",
    "    \n",
    "                \n",
    "    \n",
    "# For Testing.\n",
    "myhand=[\"6D\", \"9S\", \"12C\", \"7H\", \"7C\", \"2D\", \"11H\", \"10S\", \"7S\", \"12H\", \"10H\", \"4D\", \"9C\"]\n",
    "is_it_three_shapes(myhand)\n",
    "print(myhand)\n",
    "    "
   ]
  },
  {
   "cell_type": "markdown",
   "metadata": {},
   "source": [
    "Q11. Use the above programs to tell if a 'hand'  has 'First Rummy'. Complete the code below."
   ]
  },
  {
   "cell_type": "code",
   "execution_count": null,
   "metadata": {},
   "outputs": [],
   "source": [
    "myhand=[\"6D\", \"9S\", \"12C\", \"8S\", \"7C\", \"2D\", \"11H\", \"10S\", \"7S\", \"12H\", \"10H\", \"4D\", \"9C\"]\n",
    "\n",
    "# FIrst create the collection based on shapes.\n",
    "\n",
    "# Use this collection based on shapes and for each and every list.\n",
    "# if the length is greater than 3, call the is_it_rummy helper.\n",
    "        "
   ]
  },
  {
   "cell_type": "code",
   "execution_count": null,
   "metadata": {},
   "outputs": [],
   "source": []
  }
 ],
 "metadata": {
  "kernelspec": {
   "display_name": "Python 3",
   "language": "python",
   "name": "python3"
  },
  "language_info": {
   "codemirror_mode": {
    "name": "ipython",
    "version": 3
   },
   "file_extension": ".py",
   "mimetype": "text/x-python",
   "name": "python",
   "nbconvert_exporter": "python",
   "pygments_lexer": "ipython3",
   "version": "3.7.6"
  }
 },
 "nbformat": 4,
 "nbformat_minor": 2
}
