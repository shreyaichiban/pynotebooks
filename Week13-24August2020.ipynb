{
 "cells": [
  {
   "cell_type": "markdown",
   "metadata": {},
   "source": [
    "# Week 13 - 24 August 2020"
   ]
  },
  {
   "cell_type": "markdown",
   "metadata": {},
   "source": [
    "Q1a. Given a floating point number (number with decimals, ex: 4.2), convert it into a Ratio or Fraction (ex: 21/5)."
   ]
  },
  {
   "cell_type": "code",
   "execution_count": 18,
   "metadata": {},
   "outputs": [
    {
     "name": "stdout",
     "output_type": "stream",
     "text": [
      "2\n",
      "21 / 5\n"
     ]
    }
   ],
   "source": [
    "import math \n",
    "x=4.2\n",
    "f= x*10\n",
    "def compute_hcf(x, y):\n",
    "    if x > y:\n",
    "        smaller = y\n",
    "    else:\n",
    "        smaller = x\n",
    "    for i in range(1, smaller+1):\n",
    "        if((x % i == 0) and (y % i == 0)):\n",
    "            hcf = i \n",
    "    return hcf\n",
    "\n",
    "num1 = f \n",
    "num2 = 10\n",
    "print(compute_hcf(num1,num2))\n",
    "g=int(f/compute_hcf(num1,num2))\n",
    "h=int(10/compute_hcf(num1,num2))\n",
    "print(g,\"/\",h)"
   ]
  },
  {
   "cell_type": "markdown",
   "metadata": {},
   "source": [
    "Q1b. Given Values convert it into proportions. For examples: Input: marvel_heros = {‘iron man’ = 8, ‘thor’=5, ‘hulk’=7, ‘natasha’=6, ‘dr. strange’=2}. Output: marvel_heros = {‘iron man’ = 0.28, ‘thor’=0.19, ‘hulk’=0.25, ‘natasha’=0.21, ‘dr. strange’=0.07}"
   ]
  },
  {
   "cell_type": "code",
   "execution_count": 20,
   "metadata": {},
   "outputs": [
    {
     "name": "stdout",
     "output_type": "stream",
     "text": [
      "iron man\n",
      "thor\n",
      "hulk\n",
      "natasha\n",
      "dr. strange\n",
      "28\n",
      "{'iron man': 0.2857142857142857, 'thor': 0.17857142857142855, 'hulk': 0.25, 'natasha': 0.21428571428571427, 'dr. strange': 0.07142857142857142}\n"
     ]
    }
   ],
   "source": [
    "marvel_heroes = {\"iron man\" : 8, \"thor\":5, \"hulk\":7, \"natasha\":6, \"dr. strange\":2}\n",
    "j=0\n",
    "for i in marvel_heroes:\n",
    "    print(i)\n",
    "    j = j+marvel_heroes[i]\n",
    "    k=1/j\n",
    "print(j)    \n",
    "for i in marvel_heroes:\n",
    "    n=k*marvel_heroes[i]\n",
    "    m=float(n)\n",
    "    marvel_heroes[i]=m\n",
    "print(marvel_heroes)"
   ]
  },
  {
   "cell_type": "markdown",
   "metadata": {},
   "source": [
    "Q2.Generate a multiplicaction table. Take the number from the user and generate the number's multiplication table."
   ]
  },
  {
   "cell_type": "code",
   "execution_count": 8,
   "metadata": {},
   "outputs": [
    {
     "name": "stdout",
     "output_type": "stream",
     "text": [
      "Enter a number9\n",
      "9 times 0 is 0\n",
      "9 times 1 is 9\n",
      "9 times 2 is 18\n",
      "9 times 3 is 27\n",
      "9 times 4 is 36\n",
      "9 times 5 is 45\n",
      "9 times 6 is 54\n",
      "9 times 7 is 63\n",
      "9 times 8 is 72\n",
      "9 times 9 is 81\n",
      "9 times 10 is 90\n",
      "9 times 11 is 99\n",
      "9 times 12 is 108\n",
      "9 times 13 is 117\n",
      "9 times 14 is 126\n",
      "9 times 15 is 135\n",
      "9 times 16 is 144\n",
      "9 times 17 is 153\n",
      "9 times 18 is 162\n",
      "9 times 19 is 171\n",
      "9 times 20 is 180\n",
      "9 times 21 is 189\n",
      "9 times 22 is 198\n",
      "9 times 23 is 207\n",
      "9 times 24 is 216\n",
      "9 times 25 is 225\n",
      "9 times 26 is 234\n",
      "9 times 27 is 243\n",
      "9 times 28 is 252\n",
      "9 times 29 is 261\n",
      "9 times 30 is 270\n",
      "9 times 31 is 279\n",
      "9 times 32 is 288\n",
      "9 times 33 is 297\n",
      "9 times 34 is 306\n",
      "9 times 35 is 315\n",
      "9 times 36 is 324\n",
      "9 times 37 is 333\n",
      "9 times 38 is 342\n",
      "9 times 39 is 351\n",
      "9 times 40 is 360\n",
      "9 times 41 is 369\n",
      "9 times 42 is 378\n",
      "9 times 43 is 387\n",
      "9 times 44 is 396\n",
      "9 times 45 is 405\n",
      "9 times 46 is 414\n",
      "9 times 47 is 423\n",
      "9 times 48 is 432\n",
      "9 times 49 is 441\n",
      "9 times 50 is 450\n",
      "9 times 51 is 459\n",
      "9 times 52 is 468\n",
      "9 times 53 is 477\n",
      "9 times 54 is 486\n",
      "9 times 55 is 495\n",
      "9 times 56 is 504\n",
      "9 times 57 is 513\n",
      "9 times 58 is 522\n",
      "9 times 59 is 531\n",
      "9 times 60 is 540\n",
      "9 times 61 is 549\n",
      "9 times 62 is 558\n",
      "9 times 63 is 567\n",
      "9 times 64 is 576\n",
      "9 times 65 is 585\n",
      "9 times 66 is 594\n",
      "9 times 67 is 603\n",
      "9 times 68 is 612\n",
      "9 times 69 is 621\n",
      "9 times 70 is 630\n",
      "9 times 71 is 639\n",
      "9 times 72 is 648\n",
      "9 times 73 is 657\n",
      "9 times 74 is 666\n",
      "9 times 75 is 675\n",
      "9 times 76 is 684\n",
      "9 times 77 is 693\n",
      "9 times 78 is 702\n",
      "9 times 79 is 711\n",
      "9 times 80 is 720\n",
      "9 times 81 is 729\n",
      "9 times 82 is 738\n",
      "9 times 83 is 747\n",
      "9 times 84 is 756\n",
      "9 times 85 is 765\n",
      "9 times 86 is 774\n",
      "9 times 87 is 783\n",
      "9 times 88 is 792\n",
      "9 times 89 is 801\n",
      "9 times 90 is 810\n",
      "9 times 91 is 819\n",
      "9 times 92 is 828\n",
      "9 times 93 is 837\n",
      "9 times 94 is 846\n",
      "9 times 95 is 855\n",
      "9 times 96 is 864\n",
      "9 times 97 is 873\n",
      "9 times 98 is 882\n",
      "9 times 99 is 891\n"
     ]
    }
   ],
   "source": [
    "n=int(input(\"Enter a number\"))\n",
    "counter = 0 \n",
    "for counter in range(0,100):\n",
    "    a= n*counter\n",
    "    print(n,\"times\",counter,\"is\",a)\n",
    "    counter = counter + 1\n",
    "    next"
   ]
  },
  {
   "cell_type": "markdown",
   "metadata": {},
   "source": [
    "Q3.Print the fibonaccai series. As user how many number of fibonacci series he wants and print so many numbers. Fibonacci series is like this: 0, 1, 1, 2, 3, 5, 8, 13, 21, 34 ... A number is sum of previous 2 numbers. You can google for more about fibonacci series."
   ]
  },
  {
   "cell_type": "code",
   "execution_count": 12,
   "metadata": {},
   "outputs": [
    {
     "name": "stdout",
     "output_type": "stream",
     "text": [
      "how many numbers10\n",
      "[0, 1, 1, 2, 3, 5, 8, 13, 21, 34, 55, 89, 144]\n"
     ]
    }
   ],
   "source": [
    "b=int(input(\"how many numbers\"))\n",
    "n=[0,1]\n",
    "for counter in range(0,b+1):\n",
    "    n.append(n[-1]+n[-2])\n",
    "    counter= counter +  1 \n",
    "print(n)"
   ]
  },
  {
   "cell_type": "markdown",
   "metadata": {},
   "source": [
    "Q4.Analyze your test marks. Use the below code to answer following questions. The code below gets information from the user. The subject_marks will have all the information.\n",
    "1. Total marks Obtained.\n",
    "2. Percentage Total.\n",
    "3. Maximum Marks obtained in a subject and Percentage\n",
    "4. Minimum Marks obtained in a subject and Percentage\n",
    "5. How much more marks you should score to get 95% of Total Marks?"
   ]
  },
  {
   "cell_type": "code",
   "execution_count": 9,
   "metadata": {},
   "outputs": [
    {
     "name": "stdout",
     "output_type": "stream",
     "text": [
      "Please Enter the Subject math\n",
      "Please enter the marks 20\n",
      "Please enter the max marks 20\n",
      "Do you want to add another subject? (y/n)y\n",
      "Please Enter the Subject chem\n",
      "Please enter the marks 17\n",
      "Please enter the max marks 20\n",
      "Do you want to add another subject? (y/n)y\n",
      "Please Enter the Subject bio\n",
      "Please enter the marks 16\n",
      "Please enter the max marks 20\n",
      "Do you want to add another subject? (y/n)n\n",
      "[{'title': 'math', 'marks': 20, 'max_marks': 20}, {'title': 'chem', 'marks': 17, 'max_marks': 20}, {'title': 'bio', 'marks': 16, 'max_marks': 20}]\n",
      "Total marks is  53\n",
      "Total percentage is  88.33333333333333 %\n",
      "20\n",
      "16\n",
      "57.0  more marks are needed to get 95%\n"
     ]
    }
   ],
   "source": [
    "exit = 'y'\n",
    "subject_marks = []\n",
    "while 'y' in exit:\n",
    "    subject = {}\n",
    "    title = input(\"Please Enter the Subject \")\n",
    "    marks = input(\"Please enter the marks \")\n",
    "    max_marks = input(\"Please enter the max marks \")\n",
    "    subject['title'] = title\n",
    "    subject['marks'] = int(marks)\n",
    "    subject['max_marks'] = int(max_marks)\n",
    "    subject_marks.append(subject)\n",
    "    exit = input(\"Do you want to add another subject? (y/n)\")\n",
    "    exit = exit.lower()\n",
    "print(subject_marks)\n",
    "tm=0\n",
    "tmm=0\n",
    "max_m = 0\n",
    "min_m = 100\n",
    "nm=0\n",
    "for subject in subject_marks:\n",
    "    m = subject['marks']\n",
    "    tm = tm+ m\n",
    "    if m > max_m:\n",
    "        max_m = m\n",
    "    if m< min_m:\n",
    "        min_m= m\n",
    "    mm= subject['max_marks']\n",
    "    tmm = tmm + mm\n",
    "    pt = (tm/tmm)*100\n",
    "nm = (95 * tmm / 100)-tm\n",
    "print(\"Total marks is \" ,tm)\n",
    "print(\"Total percentage is \" , pt , \"%\")\n",
    "print(max_m)\n",
    "print(min_m)\n",
    "print(nm,\" more marks are needed to get 95%\")"
   ]
  },
  {
   "cell_type": "code",
   "execution_count": 20,
   "metadata": {},
   "outputs": [
    {
     "name": "stdout",
     "output_type": "stream",
     "text": [
      "[0, 1, 1, 2, 3, 5, 8, 13, 21, 34, 55, 89, 144, 233, 377, 610, 987, 1597, 2584, 4181, 6765, 10946, 17711, 28657, 46368, 75025, 121393, 196418, 317811, 514229, 832040, 1346269]\n"
     ]
    }
   ],
   "source": [
    "fibo = [0,1]\n",
    "[fibo.append(fibo[-1]+fibo[-2]) for i in range (0,30)]\n",
    "print(fibo)"
   ]
  },
  {
   "cell_type": "code",
   "execution_count": null,
   "metadata": {},
   "outputs": [],
   "source": []
  },
  {
   "cell_type": "code",
   "execution_count": null,
   "metadata": {},
   "outputs": [],
   "source": []
  }
 ],
 "metadata": {
  "kernelspec": {
   "display_name": "Python 3",
   "language": "python",
   "name": "python3"
  },
  "language_info": {
   "codemirror_mode": {
    "name": "ipython",
    "version": 3
   },
   "file_extension": ".py",
   "mimetype": "text/x-python",
   "name": "python",
   "nbconvert_exporter": "python",
   "pygments_lexer": "ipython3",
   "version": "3.7.6"
  }
 },
 "nbformat": 4,
 "nbformat_minor": 4
}
